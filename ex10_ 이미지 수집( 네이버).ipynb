{
 "cells": [
  {
   "cell_type": "code",
   "execution_count": 2,
   "id": "0105510f",
   "metadata": {
    "ExecuteTime": {
     "end_time": "2023-10-12T02:09:45.454959Z",
     "start_time": "2023-10-12T02:09:45.054847Z"
    }
   },
   "outputs": [],
   "source": [
    "import os\n",
    "from selenium import webdriver as wb\n",
    "from selenium.webdriver.common.by import By\n",
    "from selenium.webdriver.common.keys import Keys\n",
    "import time\n",
    "from bs4 import BeautifulSoup as bs\n",
    "from urllib.request import urlretrieve\n",
    "import pandas as pd"
   ]
  },
  {
   "cell_type": "code",
   "execution_count": 15,
   "id": "bfe8f630",
   "metadata": {
    "ExecuteTime": {
     "end_time": "2023-10-12T03:29:11.930965Z",
     "start_time": "2023-10-12T03:28:49.172429Z"
    },
    "scrolled": true
   },
   "outputs": [
    {
     "name": "stdout",
     "output_type": "stream",
     "text": [
      "검색어를 입력해주세요.불독\n",
      "가져올 이미지 개수를 입력해주세요.30\n",
      "바탕화면에 불독 폴더 생성중..\n",
      "불독 폴더가 이미 존재합니다. 폴더 생성을 생략합니다.\n",
      "불독 이미지 30장 크롤링이 끝났습니다.\n"
     ]
    }
   ],
   "source": [
    "# 네이버 페이지 오픈\n",
    "sh = input('검색어를 입력해주세요.')\n",
    "img_count = int(input('가져올 이미지 개수를 입력해주세요.'))\n",
    "\n",
    "driver = wb.Chrome()\n",
    "driver.get('http://naver.com')\n",
    "\n",
    "# 브라우저 전체화면으로 변경\n",
    "driver.maximize_window()\n",
    "\n",
    "# 검색창에 키워드 입력 후 검색\n",
    "search = driver.find_element(By.ID, 'query')\n",
    "search.send_keys(sh)\n",
    "search.send_keys(Keys.ENTER)\n",
    "\n",
    "# 이미지 탭 클릭\n",
    "time.sleep(1)\n",
    "img_tab = driver.find_element(By.CSS_SELECTOR, '#lnb > div.lnb_group > div > div.lnb_nav_area._nav_area_root > div > div.api_flicking_wrap._conveyer_root > div:nth-child(1) > a')\n",
    "img_tab.click()\n",
    "# 이미지 데이터 저장 (폴더생성)\n",
    "loc = f'C:\\\\Users\\\\gjaischool1\\\\Desktop\\\\{sh}'\n",
    "print(f'바탕화면에 {sh} 폴더 생성중..')\n",
    "if not os.path.isdir(loc):\n",
    "    print('폴더생성')\n",
    "    os.mkdir(loc)\n",
    "else:\n",
    "    print(f'{sh} 폴더가 이미 존재합니다. 폴더 생성을 생략합니다.')\n",
    "    \n",
    "# 페이지 스크롤 내리기\n",
    "for i in range(20):    \n",
    "    body = driver.find_element(By.TAG_NAME, 'body')\n",
    "    body.send_keys(Keys.END)\n",
    "time.sleep(5)\n",
    "\n",
    "# 강아지 사진 정보 가져오기\n",
    "# img 태그의 속성 값 추출을 위해 bs 객체화\n",
    "soup = bs(driver.page_source, 'lxml')\n",
    "img = soup.select('img._image._listImage')\n",
    "\n",
    "# 이미지 저장\n",
    "for i in range(img_count):\n",
    "    urlretrieve(img[i]['src'], loc+f'\\\\{sh}{i+1}.jpg')\n",
    "\n",
    "driver.quit()\n",
    "    \n",
    "print(f'{sh} 이미지 {img_count}장 크롤링이 끝났습니다.')"
   ]
  },
  {
   "cell_type": "code",
   "execution_count": null,
   "id": "22d00d74",
   "metadata": {},
   "outputs": [],
   "source": []
  },
  {
   "cell_type": "code",
   "execution_count": null,
   "id": "17828a71",
   "metadata": {},
   "outputs": [],
   "source": []
  },
  {
   "cell_type": "code",
   "execution_count": null,
   "id": "d0cc70dc",
   "metadata": {},
   "outputs": [],
   "source": []
  }
 ],
 "metadata": {
  "kernelspec": {
   "display_name": "Python 3 (ipykernel)",
   "language": "python",
   "name": "python3"
  },
  "language_info": {
   "codemirror_mode": {
    "name": "ipython",
    "version": 3
   },
   "file_extension": ".py",
   "mimetype": "text/x-python",
   "name": "python",
   "nbconvert_exporter": "python",
   "pygments_lexer": "ipython3",
   "version": "3.10.9"
  },
  "toc": {
   "base_numbering": 1,
   "nav_menu": {},
   "number_sections": true,
   "sideBar": true,
   "skip_h1_title": false,
   "title_cell": "Table of Contents",
   "title_sidebar": "Contents",
   "toc_cell": false,
   "toc_position": {},
   "toc_section_display": true,
   "toc_window_display": false
  }
 },
 "nbformat": 4,
 "nbformat_minor": 5
}
