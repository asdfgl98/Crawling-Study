{
 "cells": [
  {
   "cell_type": "code",
   "execution_count": 45,
   "id": "286d4ca8",
   "metadata": {
    "ExecuteTime": {
     "end_time": "2023-10-11T05:14:57.609761Z",
     "start_time": "2023-10-11T05:14:57.600780Z"
    }
   },
   "outputs": [],
   "source": [
    "# 라이브러리 불러오기\n",
    "# 브라우저 역할\n",
    "from selenium import webdriver as wb\n",
    "from selenium.webdriver.common.by import By\n",
    "from selenium.webdriver.common.keys import Keys # 컴퓨터용 키보드"
   ]
  },
  {
   "cell_type": "code",
   "execution_count": 46,
   "id": "b00ae41a",
   "metadata": {
    "ExecuteTime": {
     "end_time": "2023-10-11T05:15:34.232763Z",
     "start_time": "2023-10-11T05:15:31.060915Z"
    }
   },
   "outputs": [],
   "source": [
    "driver = wb.Chrome()"
   ]
  },
  {
   "cell_type": "code",
   "execution_count": 3,
   "id": "32f6b23c",
   "metadata": {
    "ExecuteTime": {
     "end_time": "2023-10-11T00:21:00.804107Z",
     "start_time": "2023-10-11T00:20:35.988405Z"
    }
   },
   "outputs": [],
   "source": [
    "driver.get('https://www.hsd.co.kr/menu/menu_list')"
   ]
  },
  {
   "cell_type": "code",
   "execution_count": 10,
   "id": "0b740646",
   "metadata": {
    "ExecuteTime": {
     "end_time": "2023-10-11T00:38:56.174395Z",
     "start_time": "2023-10-11T00:38:56.140701Z"
    }
   },
   "outputs": [
    {
     "data": {
      "text/plain": [
       "'유린기'"
      ]
     },
     "execution_count": 10,
     "metadata": {},
     "output_type": "execute_result"
    }
   ],
   "source": [
    "#1. 한솥 페이지 첫번째 메뉴 이름 가져오기\n",
    "menu = driver.find_element(By.CSS_SELECTOR, 'h4.h.fz_03')\n",
    "menu.text"
   ]
  },
  {
   "cell_type": "code",
   "execution_count": 21,
   "id": "5114e72a",
   "metadata": {
    "ExecuteTime": {
     "end_time": "2023-10-11T01:22:21.733393Z",
     "start_time": "2023-10-11T01:22:21.700177Z"
    }
   },
   "outputs": [
    {
     "data": {
      "text/plain": [
       "'유린기'"
      ]
     },
     "execution_count": 21,
     "metadata": {},
     "output_type": "execute_result"
    }
   ],
   "source": [
    "# find_elements 사용해보기\n",
    "driver.find_elements(By.CSS_SELECTOR, 'h4.h.fz_03')[0].text\n",
    "# elements는 리스트형태로 데이터를 가져오기 때문에 콘텐츠 추출 시 반드시 인덱싱 후 진행"
   ]
  },
  {
   "cell_type": "code",
   "execution_count": 26,
   "id": "43deec80",
   "metadata": {
    "ExecuteTime": {
     "end_time": "2023-10-11T01:23:10.373118Z",
     "start_time": "2023-10-11T01:23:09.627646Z"
    },
    "scrolled": true
   },
   "outputs": [
    {
     "name": "stdout",
     "output_type": "stream",
     "text": [
      "6,600원\n",
      "6,900원\n",
      "2,900원\n",
      "1,900원\n",
      "4,600원\n",
      "4,000원\n",
      "8,900원\n",
      "8,900원\n",
      "10,000원\n",
      "10,500원\n",
      "7,800원\n",
      "8,500원\n",
      "6,500원\n",
      "6,000원\n",
      "7,000원\n",
      "6,000원\n",
      "4,800원\n",
      "6,600원\n",
      "5,500원\n",
      "7,500원\n",
      "4,400원\n",
      "6,000원\n",
      "4,900원\n",
      "4,800원\n",
      "4,500원\n",
      "5,000원\n",
      "8,600원\n",
      "9,000원\n",
      "9,000원\n",
      "8,000원\n",
      "7,400원\n",
      "7,500원\n",
      "6,900원\n",
      "5,800원\n",
      "3,900원\n",
      "6,000원\n",
      "5,000원\n",
      "4,300원\n",
      "3,700원\n",
      "3,500원\n",
      "4,000원\n",
      "4,700원\n",
      "5,500원\n",
      "5,300원\n",
      "4,700원\n",
      "3,900원\n",
      "4,700원\n",
      "4,900원\n",
      "6,200원\n",
      "4,900원\n",
      "6,000원\n",
      "5,900원\n",
      "5,900원\n",
      "6,000원\n",
      "5,000원\n",
      "6,000원\n",
      "4,200원\n",
      "4,100원\n",
      "6,500원\n",
      "6,500원\n",
      "5,400원\n",
      "5,200원\n",
      "3,500원\n",
      "5,000원\n"
     ]
    }
   ],
   "source": [
    "price = driver.find_elements(By.CSS_SELECTOR, 'div.item-price')\n",
    "for i in range(len(price)):\n",
    "    print(price[i].text)"
   ]
  },
  {
   "cell_type": "code",
   "execution_count": 24,
   "id": "28df8fdb",
   "metadata": {
    "ExecuteTime": {
     "end_time": "2023-10-11T01:22:39.201421Z",
     "start_time": "2023-10-11T01:22:39.188598Z"
    }
   },
   "outputs": [
    {
     "data": {
      "text/plain": [
       "64"
      ]
     },
     "execution_count": 24,
     "metadata": {},
     "output_type": "execute_result"
    }
   ],
   "source": []
  },
  {
   "cell_type": "markdown",
   "id": "2ea38cea",
   "metadata": {},
   "source": [
    "### 더보기 버튼 클릭하기\n",
    "- 더보기 버튼 클릭하기\n",
    "    - 현재 브라우저가 가지고있는 정보만 수집할 수 있음\n",
    "    - 더보기 버튼을 클릭해서 모든 메뉴정보를 수집하기"
   ]
  },
  {
   "cell_type": "code",
   "execution_count": 28,
   "id": "e14a5df5",
   "metadata": {
    "ExecuteTime": {
     "end_time": "2023-10-11T01:24:54.941882Z",
     "start_time": "2023-10-11T01:24:54.889648Z"
    }
   },
   "outputs": [],
   "source": [
    "# 더보기 버튼을 클릭하기 위해 버튼의 위치 알아오기\n",
    "btn_more = driver.find_element(By.CLASS_NAME, 'c_05')\n",
    "btn_more.click()"
   ]
  },
  {
   "cell_type": "code",
   "execution_count": 29,
   "id": "85f821e5",
   "metadata": {
    "ExecuteTime": {
     "end_time": "2023-10-11T01:26:06.471394Z",
     "start_time": "2023-10-11T01:26:05.908352Z"
    },
    "collapsed": true
   },
   "outputs": [
    {
     "ename": "ElementNotInteractableException",
     "evalue": "Message: element not interactable\n  (Session info: chrome=117.0.5938.149)\nStacktrace:\n\tGetHandleVerifier [0x00007FF6CA367D12+55474]\n\t(No symbol) [0x00007FF6CA2D77C2]\n\t(No symbol) [0x00007FF6CA18DF9D]\n\t(No symbol) [0x00007FF6CA1CFF95]\n\t(No symbol) [0x00007FF6CA1C5DCF]\n\t(No symbol) [0x00007FF6CA1EF15A]\n\t(No symbol) [0x00007FF6CA1C56E6]\n\t(No symbol) [0x00007FF6CA1EF370]\n\t(No symbol) [0x00007FF6CA207EF2]\n\t(No symbol) [0x00007FF6CA1EEF33]\n\t(No symbol) [0x00007FF6CA1C3D41]\n\t(No symbol) [0x00007FF6CA1C4F84]\n\tGetHandleVerifier [0x00007FF6CA6CB762+3609346]\n\tGetHandleVerifier [0x00007FF6CA721A80+3962400]\n\tGetHandleVerifier [0x00007FF6CA719F0F+3930799]\n\tGetHandleVerifier [0x00007FF6CA403CA6+694342]\n\t(No symbol) [0x00007FF6CA2E2218]\n\t(No symbol) [0x00007FF6CA2DE484]\n\t(No symbol) [0x00007FF6CA2DE5B2]\n\t(No symbol) [0x00007FF6CA2CEE13]\n\tBaseThreadInitThunk [0x00007FFD7EA0257D+29]\n\tRtlUserThreadStart [0x00007FFD7F32AA68+40]\n",
     "output_type": "error",
     "traceback": [
      "\u001b[1;31m---------------------------------------------------------------------------\u001b[0m",
      "\u001b[1;31mElementNotInteractableException\u001b[0m           Traceback (most recent call last)",
      "Cell \u001b[1;32mIn[29], line 4\u001b[0m\n\u001b[0;32m      2\u001b[0m \u001b[38;5;28;01mfor\u001b[39;00m  i \u001b[38;5;129;01min\u001b[39;00m \u001b[38;5;28mrange\u001b[39m(\u001b[38;5;241m30\u001b[39m):\n\u001b[0;32m      3\u001b[0m     btn_more \u001b[38;5;241m=\u001b[39m driver\u001b[38;5;241m.\u001b[39mfind_element(By\u001b[38;5;241m.\u001b[39mCLASS_NAME, \u001b[38;5;124m'\u001b[39m\u001b[38;5;124mc_05\u001b[39m\u001b[38;5;124m'\u001b[39m)\n\u001b[1;32m----> 4\u001b[0m     \u001b[43mbtn_more\u001b[49m\u001b[38;5;241;43m.\u001b[39;49m\u001b[43mclick\u001b[49m\u001b[43m(\u001b[49m\u001b[43m)\u001b[49m\n",
      "File \u001b[1;32m~\\anaconda3\\lib\\site-packages\\selenium\\webdriver\\remote\\webelement.py:93\u001b[0m, in \u001b[0;36mWebElement.click\u001b[1;34m(self)\u001b[0m\n\u001b[0;32m     91\u001b[0m \u001b[38;5;28;01mdef\u001b[39;00m \u001b[38;5;21mclick\u001b[39m(\u001b[38;5;28mself\u001b[39m) \u001b[38;5;241m-\u001b[39m\u001b[38;5;241m>\u001b[39m \u001b[38;5;28;01mNone\u001b[39;00m:\n\u001b[0;32m     92\u001b[0m     \u001b[38;5;124;03m\"\"\"Clicks the element.\"\"\"\u001b[39;00m\n\u001b[1;32m---> 93\u001b[0m     \u001b[38;5;28;43mself\u001b[39;49m\u001b[38;5;241;43m.\u001b[39;49m\u001b[43m_execute\u001b[49m\u001b[43m(\u001b[49m\u001b[43mCommand\u001b[49m\u001b[38;5;241;43m.\u001b[39;49m\u001b[43mCLICK_ELEMENT\u001b[49m\u001b[43m)\u001b[49m\n",
      "File \u001b[1;32m~\\anaconda3\\lib\\site-packages\\selenium\\webdriver\\remote\\webelement.py:394\u001b[0m, in \u001b[0;36mWebElement._execute\u001b[1;34m(self, command, params)\u001b[0m\n\u001b[0;32m    392\u001b[0m     params \u001b[38;5;241m=\u001b[39m {}\n\u001b[0;32m    393\u001b[0m params[\u001b[38;5;124m\"\u001b[39m\u001b[38;5;124mid\u001b[39m\u001b[38;5;124m\"\u001b[39m] \u001b[38;5;241m=\u001b[39m \u001b[38;5;28mself\u001b[39m\u001b[38;5;241m.\u001b[39m_id\n\u001b[1;32m--> 394\u001b[0m \u001b[38;5;28;01mreturn\u001b[39;00m \u001b[38;5;28;43mself\u001b[39;49m\u001b[38;5;241;43m.\u001b[39;49m\u001b[43m_parent\u001b[49m\u001b[38;5;241;43m.\u001b[39;49m\u001b[43mexecute\u001b[49m\u001b[43m(\u001b[49m\u001b[43mcommand\u001b[49m\u001b[43m,\u001b[49m\u001b[43m \u001b[49m\u001b[43mparams\u001b[49m\u001b[43m)\u001b[49m\n",
      "File \u001b[1;32m~\\anaconda3\\lib\\site-packages\\selenium\\webdriver\\remote\\webdriver.py:344\u001b[0m, in \u001b[0;36mWebDriver.execute\u001b[1;34m(self, driver_command, params)\u001b[0m\n\u001b[0;32m    342\u001b[0m response \u001b[38;5;241m=\u001b[39m \u001b[38;5;28mself\u001b[39m\u001b[38;5;241m.\u001b[39mcommand_executor\u001b[38;5;241m.\u001b[39mexecute(driver_command, params)\n\u001b[0;32m    343\u001b[0m \u001b[38;5;28;01mif\u001b[39;00m response:\n\u001b[1;32m--> 344\u001b[0m     \u001b[38;5;28;43mself\u001b[39;49m\u001b[38;5;241;43m.\u001b[39;49m\u001b[43merror_handler\u001b[49m\u001b[38;5;241;43m.\u001b[39;49m\u001b[43mcheck_response\u001b[49m\u001b[43m(\u001b[49m\u001b[43mresponse\u001b[49m\u001b[43m)\u001b[49m\n\u001b[0;32m    345\u001b[0m     response[\u001b[38;5;124m\"\u001b[39m\u001b[38;5;124mvalue\u001b[39m\u001b[38;5;124m\"\u001b[39m] \u001b[38;5;241m=\u001b[39m \u001b[38;5;28mself\u001b[39m\u001b[38;5;241m.\u001b[39m_unwrap_value(response\u001b[38;5;241m.\u001b[39mget(\u001b[38;5;124m\"\u001b[39m\u001b[38;5;124mvalue\u001b[39m\u001b[38;5;124m\"\u001b[39m, \u001b[38;5;28;01mNone\u001b[39;00m))\n\u001b[0;32m    346\u001b[0m     \u001b[38;5;28;01mreturn\u001b[39;00m response\n",
      "File \u001b[1;32m~\\anaconda3\\lib\\site-packages\\selenium\\webdriver\\remote\\errorhandler.py:229\u001b[0m, in \u001b[0;36mErrorHandler.check_response\u001b[1;34m(self, response)\u001b[0m\n\u001b[0;32m    227\u001b[0m         alert_text \u001b[38;5;241m=\u001b[39m value[\u001b[38;5;124m\"\u001b[39m\u001b[38;5;124malert\u001b[39m\u001b[38;5;124m\"\u001b[39m]\u001b[38;5;241m.\u001b[39mget(\u001b[38;5;124m\"\u001b[39m\u001b[38;5;124mtext\u001b[39m\u001b[38;5;124m\"\u001b[39m)\n\u001b[0;32m    228\u001b[0m     \u001b[38;5;28;01mraise\u001b[39;00m exception_class(message, screen, stacktrace, alert_text)  \u001b[38;5;66;03m# type: ignore[call-arg]  # mypy is not smart enough here\u001b[39;00m\n\u001b[1;32m--> 229\u001b[0m \u001b[38;5;28;01mraise\u001b[39;00m exception_class(message, screen, stacktrace)\n",
      "\u001b[1;31mElementNotInteractableException\u001b[0m: Message: element not interactable\n  (Session info: chrome=117.0.5938.149)\nStacktrace:\n\tGetHandleVerifier [0x00007FF6CA367D12+55474]\n\t(No symbol) [0x00007FF6CA2D77C2]\n\t(No symbol) [0x00007FF6CA18DF9D]\n\t(No symbol) [0x00007FF6CA1CFF95]\n\t(No symbol) [0x00007FF6CA1C5DCF]\n\t(No symbol) [0x00007FF6CA1EF15A]\n\t(No symbol) [0x00007FF6CA1C56E6]\n\t(No symbol) [0x00007FF6CA1EF370]\n\t(No symbol) [0x00007FF6CA207EF2]\n\t(No symbol) [0x00007FF6CA1EEF33]\n\t(No symbol) [0x00007FF6CA1C3D41]\n\t(No symbol) [0x00007FF6CA1C4F84]\n\tGetHandleVerifier [0x00007FF6CA6CB762+3609346]\n\tGetHandleVerifier [0x00007FF6CA721A80+3962400]\n\tGetHandleVerifier [0x00007FF6CA719F0F+3930799]\n\tGetHandleVerifier [0x00007FF6CA403CA6+694342]\n\t(No symbol) [0x00007FF6CA2E2218]\n\t(No symbol) [0x00007FF6CA2DE484]\n\t(No symbol) [0x00007FF6CA2DE5B2]\n\t(No symbol) [0x00007FF6CA2CEE13]\n\tBaseThreadInitThunk [0x00007FFD7EA0257D+29]\n\tRtlUserThreadStart [0x00007FFD7F32AA68+40]\n"
     ]
    }
   ],
   "source": [
    "# 반복문을 통해서 모든 더보기 버튼을 클릭 후 전체메뉴 수집하기\n",
    "for  i in range(30):\n",
    "    btn_more = driver.find_element(By.CLASS_NAME, 'c_05')\n",
    "    btn_more.click()\n",
    "# 에러 발생 -> 더보기 버튼이 더 이상 없기 때문에"
   ]
  },
  {
   "cell_type": "markdown",
   "id": "eafa6220",
   "metadata": {},
   "source": [
    "### 예외처리\n",
    "- try, except\n",
    "- try 문에서 코드를 실행하다가 에러가 발생하면 except문 실행\n",
    "- 사용하는 이유\n",
    "    - 코드 실행 시 에러가 발생하면 전체 셀 실행중단, 에러만 처리하고 셀 실행은 유지"
   ]
  },
  {
   "cell_type": "code",
   "execution_count": 34,
   "id": "0c5faa3b",
   "metadata": {
    "ExecuteTime": {
     "end_time": "2023-10-11T01:32:06.580074Z",
     "start_time": "2023-10-11T01:32:05.835309Z"
    }
   },
   "outputs": [
    {
     "name": "stdout",
     "output_type": "stream",
     "text": [
      "끝\n"
     ]
    }
   ],
   "source": [
    "try:\n",
    "    for  i in range(30):\n",
    "        btn_more = driver.find_element(By.CLASS_NAME, 'c_05')\n",
    "        btn_more.click()\n",
    "except:\n",
    "    print('끝')\n"
   ]
  },
  {
   "cell_type": "markdown",
   "id": "0cc87d0c",
   "metadata": {},
   "source": [
    "### 코드 실행 중간에 대기시간 부여 time 라이브러리\n",
    "- 사람이 처리하는 속도처럼 코드를 작성해주기 위함\n",
    "- 크롤링 할 때 동작이 컴퓨터처럼 작동하면 차단을 당할 수 있기 때문에 사람처럼 동작하게 작성\n",
    "- 페이지 로딩 시 데이터 로딩되는 시간 부여\n",
    "- 페이지가 새로고침 될 때 대기시간 부여해주는 것이 좋음"
   ]
  },
  {
   "cell_type": "code",
   "execution_count": 47,
   "id": "258d4224",
   "metadata": {
    "ExecuteTime": {
     "end_time": "2023-10-11T05:17:02.595374Z",
     "start_time": "2023-10-11T05:17:02.584653Z"
    }
   },
   "outputs": [],
   "source": [
    "# time은 강제적으로 시간을 기다려야 한다.\n",
    "# time.sleep(10)을 사용하면 실제로 10초동안 기다려야한다.\n",
    "import time"
   ]
  },
  {
   "cell_type": "code",
   "execution_count": 48,
   "id": "36c8ca78",
   "metadata": {
    "ExecuteTime": {
     "end_time": "2023-10-11T05:19:23.359356Z",
     "start_time": "2023-10-11T05:19:23.351929Z"
    }
   },
   "outputs": [],
   "source": [
    "# selenium 자체 시간부여 함수\n",
    "# implicitly_wait(초) = 응답을 다 받으면(페이지 로딩이 완료되면)\n",
    "# 0초를 다 기다리지않고 코드가 실행된다\n",
    "# 주의점 : 네트워크 환경이 좋지 않은 경우, 오히려 에러가 날 확률이 높다.\n",
    "driver.implicitly_wait(10)"
   ]
  },
  {
   "cell_type": "code",
   "execution_count": 36,
   "id": "24019ecd",
   "metadata": {
    "ExecuteTime": {
     "end_time": "2023-10-11T01:38:01.928794Z",
     "start_time": "2023-10-11T01:37:56.572030Z"
    }
   },
   "outputs": [
    {
     "name": "stdout",
     "output_type": "stream",
     "text": [
      "끝\n"
     ]
    }
   ],
   "source": [
    "try:\n",
    "    for  i in range(30):\n",
    "        btn_more = driver.find_element(By.CLASS_NAME, 'c_05')\n",
    "        btn_more.click()\n",
    "        time.sleep(1) # 1초를 대기하라는 의미\n",
    "except:\n",
    "    print('끝')\n"
   ]
  },
  {
   "cell_type": "markdown",
   "id": "d529674e",
   "metadata": {},
   "source": [
    "### 코드 합치기"
   ]
  },
  {
   "cell_type": "code",
   "execution_count": 42,
   "id": "9718a442",
   "metadata": {
    "ExecuteTime": {
     "end_time": "2023-10-11T01:50:28.252804Z",
     "start_time": "2023-10-11T01:50:03.546613Z"
    }
   },
   "outputs": [
    {
     "name": "stdout",
     "output_type": "stream",
     "text": [
      "더보기\n"
     ]
    }
   ],
   "source": [
    "# 라이브러리\n",
    "from selenium import webdriver as wb\n",
    "from selenium.webdriver.common.by import By\n",
    "from selenium.webdriver.common.keys import Keys\n",
    "import pandas as pd\n",
    "import time\n",
    "\n",
    "# 한솥 페이지 열기\n",
    "driver = wb.Chrome()\n",
    "driver.get('https://www.hsd.co.kr/menu/menu_list')\n",
    "time.sleep(3) # 페이지 열리고 3초대기\n",
    "\n",
    "# 더보기 모두 클릭\n",
    "try:\n",
    "    for  i in range(30):\n",
    "        btn_more = driver.find_element(By.CLASS_NAME, 'c_05')\n",
    "        btn_more.click()\n",
    "        time.sleep(1) # 1초를 대기하라는 의미\n",
    "except:\n",
    "    print('더보기')\n",
    "\n",
    "menu = driver.find_elements(By.CSS_SELECTOR, 'h4.h.fz_03')\n",
    "price = driver.find_elements(By.CSS_SELECTOR, 'div.item-price')\n",
    "\n",
    "menu_list = []\n",
    "price_list = []\n",
    "for i in range(len(menu)):\n",
    "    menu_list.append(menu[i].text)\n",
    "    price_list.append(price[i].text)\n",
    "\n",
    "data = {'menu_list' : menu_list, 'price_list' : price_list}\n",
    "han = pd.DataFrame (data)\n",
    "han.to_csv('data/한솥.csv', encoding='euc-kr')\n",
    "driver.quit()\n",
    "\n"
   ]
  },
  {
   "cell_type": "code",
   "execution_count": null,
   "id": "608b42b1",
   "metadata": {},
   "outputs": [],
   "source": []
  },
  {
   "cell_type": "code",
   "execution_count": null,
   "id": "b485be2e",
   "metadata": {},
   "outputs": [],
   "source": []
  },
  {
   "cell_type": "code",
   "execution_count": null,
   "id": "dada1c70",
   "metadata": {},
   "outputs": [],
   "source": []
  },
  {
   "cell_type": "code",
   "execution_count": null,
   "id": "ed5d4144",
   "metadata": {},
   "outputs": [],
   "source": []
  },
  {
   "cell_type": "code",
   "execution_count": null,
   "id": "041c8979",
   "metadata": {},
   "outputs": [],
   "source": []
  },
  {
   "cell_type": "code",
   "execution_count": null,
   "id": "e000d47e",
   "metadata": {},
   "outputs": [],
   "source": []
  }
 ],
 "metadata": {
  "kernelspec": {
   "display_name": "Python 3 (ipykernel)",
   "language": "python",
   "name": "python3"
  },
  "language_info": {
   "codemirror_mode": {
    "name": "ipython",
    "version": 3
   },
   "file_extension": ".py",
   "mimetype": "text/x-python",
   "name": "python",
   "nbconvert_exporter": "python",
   "pygments_lexer": "ipython3",
   "version": "3.10.9"
  },
  "toc": {
   "base_numbering": 1,
   "nav_menu": {},
   "number_sections": true,
   "sideBar": true,
   "skip_h1_title": false,
   "title_cell": "Table of Contents",
   "title_sidebar": "Contents",
   "toc_cell": false,
   "toc_position": {},
   "toc_section_display": true,
   "toc_window_display": false
  }
 },
 "nbformat": 4,
 "nbformat_minor": 5
}
