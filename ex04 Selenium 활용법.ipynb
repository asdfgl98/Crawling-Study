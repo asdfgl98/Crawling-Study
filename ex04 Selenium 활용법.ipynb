{
 "cells": [
  {
   "cell_type": "markdown",
   "id": "b36c797e",
   "metadata": {},
   "source": [
    "# Selenium\n",
    "- 브라우저의 조작을 컴퓨터가 자동으로 할 수 있게 해주는 라이브러리\n",
    "- 사람처럼 프로그래밍을 짜야한다."
   ]
  },
  {
   "cell_type": "code",
   "execution_count": 1,
   "id": "84245346",
   "metadata": {
    "ExecuteTime": {
     "end_time": "2023-10-10T06:16:12.335536Z",
     "start_time": "2023-10-10T06:16:02.206278Z"
    },
    "collapsed": true
   },
   "outputs": [
    {
     "name": "stdout",
     "output_type": "stream",
     "text": [
      "Collecting selenium\n",
      "  Downloading selenium-4.14.0-py3-none-any.whl (9.9 MB)\n",
      "     ---------------------------------------- 9.9/9.9 MB 3.3 MB/s eta 0:00:00\n",
      "Requirement already satisfied: certifi>=2021.10.8 in c:\\users\\gjaischool1\\anaconda3\\lib\\site-packages (from selenium) (2022.12.7)\n",
      "Collecting trio~=0.17\n",
      "  Downloading trio-0.22.2-py3-none-any.whl (400 kB)\n",
      "     -------------------------------------- 400.2/400.2 kB 3.6 MB/s eta 0:00:00\n",
      "Requirement already satisfied: urllib3[socks]<3,>=1.26 in c:\\users\\gjaischool1\\anaconda3\\lib\\site-packages (from selenium) (1.26.14)\n",
      "Collecting trio-websocket~=0.9\n",
      "  Downloading trio_websocket-0.11.1-py3-none-any.whl (17 kB)\n",
      "Requirement already satisfied: attrs>=20.1.0 in c:\\users\\gjaischool1\\anaconda3\\lib\\site-packages (from trio~=0.17->selenium) (22.1.0)\n",
      "Collecting outcome\n",
      "  Downloading outcome-1.2.0-py2.py3-none-any.whl (9.7 kB)\n",
      "Requirement already satisfied: sniffio in c:\\users\\gjaischool1\\anaconda3\\lib\\site-packages (from trio~=0.17->selenium) (1.2.0)\n",
      "Requirement already satisfied: idna in c:\\users\\gjaischool1\\anaconda3\\lib\\site-packages (from trio~=0.17->selenium) (3.4)\n",
      "Requirement already satisfied: cffi>=1.14 in c:\\users\\gjaischool1\\anaconda3\\lib\\site-packages (from trio~=0.17->selenium) (1.15.1)\n",
      "Requirement already satisfied: sortedcontainers in c:\\users\\gjaischool1\\anaconda3\\lib\\site-packages (from trio~=0.17->selenium) (2.4.0)\n",
      "Collecting exceptiongroup>=1.0.0rc9\n",
      "  Using cached exceptiongroup-1.1.3-py3-none-any.whl (14 kB)\n",
      "Collecting wsproto>=0.14\n",
      "  Downloading wsproto-1.2.0-py3-none-any.whl (24 kB)\n",
      "Requirement already satisfied: PySocks!=1.5.7,<2.0,>=1.5.6 in c:\\users\\gjaischool1\\anaconda3\\lib\\site-packages (from urllib3[socks]<3,>=1.26->selenium) (1.7.1)\n",
      "Requirement already satisfied: pycparser in c:\\users\\gjaischool1\\anaconda3\\lib\\site-packages (from cffi>=1.14->trio~=0.17->selenium) (2.21)\n",
      "Collecting h11<1,>=0.9.0\n",
      "  Downloading h11-0.14.0-py3-none-any.whl (58 kB)\n",
      "     ---------------------------------------- 58.3/58.3 kB 3.0 MB/s eta 0:00:00\n",
      "Installing collected packages: outcome, h11, exceptiongroup, wsproto, trio, trio-websocket, selenium\n",
      "Successfully installed exceptiongroup-1.1.3 h11-0.14.0 outcome-1.2.0 selenium-4.14.0 trio-0.22.2 trio-websocket-0.11.1 wsproto-1.2.0\n"
     ]
    }
   ],
   "source": [
    "# Selenium 설치\n",
    "!pip install selenium"
   ]
  },
  {
   "cell_type": "code",
   "execution_count": 3,
   "id": "f6f20bdc",
   "metadata": {
    "ExecuteTime": {
     "end_time": "2023-10-10T06:21:26.846730Z",
     "start_time": "2023-10-10T06:21:22.783298Z"
    },
    "collapsed": true
   },
   "outputs": [
    {
     "name": "stdout",
     "output_type": "stream",
     "text": [
      "Requirement already satisfied: selenium in c:\\users\\gjaischool1\\anaconda3\\lib\\site-packages (4.14.0)\n",
      "Requirement already satisfied: trio~=0.17 in c:\\users\\gjaischool1\\anaconda3\\lib\\site-packages (from selenium) (0.22.2)\n",
      "Requirement already satisfied: trio-websocket~=0.9 in c:\\users\\gjaischool1\\anaconda3\\lib\\site-packages (from selenium) (0.11.1)\n",
      "Requirement already satisfied: urllib3[socks]<3,>=1.26 in c:\\users\\gjaischool1\\anaconda3\\lib\\site-packages (from selenium) (1.26.14)\n",
      "Requirement already satisfied: certifi>=2021.10.8 in c:\\users\\gjaischool1\\anaconda3\\lib\\site-packages (from selenium) (2022.12.7)\n",
      "Requirement already satisfied: cffi>=1.14 in c:\\users\\gjaischool1\\anaconda3\\lib\\site-packages (from trio~=0.17->selenium) (1.15.1)\n",
      "Requirement already satisfied: attrs>=20.1.0 in c:\\users\\gjaischool1\\anaconda3\\lib\\site-packages (from trio~=0.17->selenium) (22.1.0)\n",
      "Requirement already satisfied: exceptiongroup>=1.0.0rc9 in c:\\users\\gjaischool1\\anaconda3\\lib\\site-packages (from trio~=0.17->selenium) (1.1.3)\n",
      "Requirement already satisfied: sortedcontainers in c:\\users\\gjaischool1\\anaconda3\\lib\\site-packages (from trio~=0.17->selenium) (2.4.0)\n",
      "Requirement already satisfied: idna in c:\\users\\gjaischool1\\anaconda3\\lib\\site-packages (from trio~=0.17->selenium) (3.4)\n",
      "Requirement already satisfied: sniffio in c:\\users\\gjaischool1\\anaconda3\\lib\\site-packages (from trio~=0.17->selenium) (1.2.0)\n",
      "Requirement already satisfied: outcome in c:\\users\\gjaischool1\\anaconda3\\lib\\site-packages (from trio~=0.17->selenium) (1.2.0)\n",
      "Requirement already satisfied: wsproto>=0.14 in c:\\users\\gjaischool1\\anaconda3\\lib\\site-packages (from trio-websocket~=0.9->selenium) (1.2.0)\n",
      "Requirement already satisfied: PySocks!=1.5.7,<2.0,>=1.5.6 in c:\\users\\gjaischool1\\anaconda3\\lib\\site-packages (from urllib3[socks]<3,>=1.26->selenium) (1.7.1)\n",
      "Requirement already satisfied: pycparser in c:\\users\\gjaischool1\\anaconda3\\lib\\site-packages (from cffi>=1.14->trio~=0.17->selenium) (2.21)\n",
      "Requirement already satisfied: h11<1,>=0.9.0 in c:\\users\\gjaischool1\\anaconda3\\lib\\site-packages (from wsproto>=0.14->trio-websocket~=0.9->selenium) (0.14.0)\n"
     ]
    }
   ],
   "source": [
    "# 최신버전으로 업데이트\n",
    "# 과거버전에서는 컴퓨터용 크롬드라이버 설치\n",
    "# 최신 selenium을 사용하면 컴퓨터용 크롬드라이버를 설치하지 않아도됌\n",
    "# -U selenium을 통해 최신 selenium으로 업데이트 하기\n",
    "!pip install -U selenium"
   ]
  },
  {
   "cell_type": "code",
   "execution_count": 2,
   "id": "da46df1b",
   "metadata": {
    "ExecuteTime": {
     "end_time": "2023-10-11T07:54:39.164040Z",
     "start_time": "2023-10-11T07:54:39.084603Z"
    }
   },
   "outputs": [],
   "source": [
    "#1. 브라우저 역할을 하는 라이브러리 webdriver\n",
    "from selenium import webdriver as wb\n",
    "#2. 선택자의 구분자역할을 해주는 라이브러리\n",
    "from selenium.webdriver.common.by import By\n",
    "#3. 컴퓨터용 키보드\n",
    "from selenium.webdriver.common.keys import Keys"
   ]
  },
  {
   "cell_type": "code",
   "execution_count": 3,
   "id": "fe1f8945",
   "metadata": {
    "ExecuteTime": {
     "end_time": "2023-10-11T07:54:42.380064Z",
     "start_time": "2023-10-11T07:54:40.374671Z"
    }
   },
   "outputs": [],
   "source": [
    "# 1. 브라우저를 시작\n",
    "# * 구보전 코드에는 wb.Chrome(\"드라이버 경로\") 를 입력하라고 되어있지만\n",
    "# 최신버전 selenium에서는 자동으로 찾아준다.\n",
    "driver = wb.Chrome()"
   ]
  },
  {
   "cell_type": "code",
   "execution_count": 4,
   "id": "41dda73e",
   "metadata": {
    "ExecuteTime": {
     "end_time": "2023-10-11T07:57:01.312826Z",
     "start_time": "2023-10-11T07:56:59.429823Z"
    }
   },
   "outputs": [],
   "source": [
    "# 페이지 정보를 요청\n",
    "driver.get('http://www.naver.com')"
   ]
  },
  {
   "cell_type": "code",
   "execution_count": 5,
   "id": "fac96a2d",
   "metadata": {
    "ExecuteTime": {
     "end_time": "2023-10-11T08:00:55.834370Z",
     "start_time": "2023-10-11T08:00:55.813341Z"
    }
   },
   "outputs": [],
   "source": [
    "# 검색창에 아시안 게임 입력\n",
    "# 검색창의 요소를 수집\n",
    "# beautifulSoup에서는 soup.select('선택자')를 사용했지만\n",
    "# webdriver에서는 find_element(By.구분자, \"값\") 을 사용한다.\n",
    "# javaScript의 document.getElementById와 똑같은 기능이다.\n",
    "# 복수개의 수집하는 경우는 find_elements를 통해 수집\n",
    "# tip!\n",
    "# 구버전은 find_element_by_id(\"값\") 를 사용\n",
    "search = driver.find_element(By.ID, 'query')"
   ]
  },
  {
   "cell_type": "code",
   "execution_count": 6,
   "id": "d5976dbd",
   "metadata": {
    "ExecuteTime": {
     "end_time": "2023-10-11T08:00:59.606673Z",
     "start_time": "2023-10-11T08:00:59.533070Z"
    }
   },
   "outputs": [],
   "source": [
    "# 검색창에 '아시안게임' 보내주기\n",
    "search.send_keys('아시안게임')"
   ]
  },
  {
   "cell_type": "code",
   "execution_count": 7,
   "id": "161dd978",
   "metadata": {
    "ExecuteTime": {
     "end_time": "2023-10-11T08:02:31.689375Z",
     "start_time": "2023-10-11T08:02:28.933145Z"
    }
   },
   "outputs": [],
   "source": [
    "# 엔터입력\n",
    "search.send_keys(Keys.ENTER)"
   ]
  },
  {
   "cell_type": "code",
   "execution_count": 8,
   "id": "dc6f49ff",
   "metadata": {
    "ExecuteTime": {
     "end_time": "2023-10-11T08:07:09.858074Z",
     "start_time": "2023-10-11T08:07:09.805477Z"
    }
   },
   "outputs": [],
   "source": [
    "# 화면 스크롤 최하단으로 이동\n",
    "body = driver.find_element(By.TAG_NAME, 'body')\n",
    "body.send_keys(Keys.END)"
   ]
  },
  {
   "cell_type": "code",
   "execution_count": 9,
   "id": "c1d05518",
   "metadata": {
    "ExecuteTime": {
     "end_time": "2023-10-11T08:08:45.826830Z",
     "start_time": "2023-10-11T08:08:45.085885Z"
    }
   },
   "outputs": [],
   "source": [
    "# 뒤로가기\n",
    "driver.back()"
   ]
  },
  {
   "cell_type": "code",
   "execution_count": 21,
   "id": "484a6eab",
   "metadata": {
    "ExecuteTime": {
     "end_time": "2023-10-10T07:28:09.345701Z",
     "start_time": "2023-10-10T07:28:07.813375Z"
    }
   },
   "outputs": [],
   "source": [
    "# 앞 페이지로 이동\n",
    "driver.forward()"
   ]
  },
  {
   "cell_type": "code",
   "execution_count": 35,
   "id": "fb384baf",
   "metadata": {
    "ExecuteTime": {
     "end_time": "2023-10-10T07:33:12.530543Z",
     "start_time": "2023-10-10T07:33:12.477283Z"
    }
   },
   "outputs": [],
   "source": [
    "# selenium을 통해서 수집을 진행할 때, 반드시 페이지가 이동, 새로고침이되면\n",
    "# 데이터가 초기화된다.\n",
    "# 반드시 새롭게 데이터를 수집해야한다. (search를 재선언 해줘야한다.)\n",
    "search = driver.find_element(By.ID, 'query')\n",
    "search.send_keys('이강인')"
   ]
  },
  {
   "cell_type": "code",
   "execution_count": 36,
   "id": "52fcdcfd",
   "metadata": {
    "ExecuteTime": {
     "end_time": "2023-10-10T07:36:34.128386Z",
     "start_time": "2023-10-10T07:36:32.261983Z"
    }
   },
   "outputs": [],
   "source": [
    "# 검색버튼 클릭\n",
    "btn = driver.find_element(By.CSS_SELECTOR, '.btn_search')\n",
    "btn.click()"
   ]
  },
  {
   "cell_type": "code",
   "execution_count": 41,
   "id": "c27d0f47",
   "metadata": {
    "ExecuteTime": {
     "end_time": "2023-10-10T07:40:08.995412Z",
     "start_time": "2023-10-10T07:40:08.941622Z"
    },
    "scrolled": true
   },
   "outputs": [
    {
     "data": {
      "text/plain": [
       "'파리 생제르맹 FC (MF 미드필더, 19)'"
      ]
     },
     "execution_count": 41,
     "metadata": {},
     "output_type": "execute_result"
    }
   ],
   "source": [
    "# 소속팀 글자정보 수집\n",
    "team = driver.find_element(By.CSS_SELECTOR, '#main_pack > section.sc_new.cs_common_module.case_normal._au_people_content_wrap.color_16._cs_sports_people > div.cm_content_wrap._content > div.cm_content_area._cm_content_area_profile > div > div.detail_info > dl > div:nth-child(3) > dd')\n",
    "team.text"
   ]
  },
  {
   "cell_type": "code",
   "execution_count": 43,
   "id": "af4e12e9",
   "metadata": {
    "ExecuteTime": {
     "end_time": "2023-10-10T07:42:34.614565Z",
     "start_time": "2023-10-10T07:42:34.557187Z"
    },
    "collapsed": true
   },
   "outputs": [
    {
     "ename": "InvalidSessionIdException",
     "evalue": "Message: invalid session id\nStacktrace:\n\tGetHandleVerifier [0x00007FF6CA367D12+55474]\n\t(No symbol) [0x00007FF6CA2D77C2]\n\t(No symbol) [0x00007FF6CA18DF9D]\n\t(No symbol) [0x00007FF6CA1C378E]\n\t(No symbol) [0x00007FF6CA1EF052]\n\t(No symbol) [0x00007FF6CA1EADC0]\n\t(No symbol) [0x00007FF6CA1EA6C6]\n\t(No symbol) [0x00007FF6CA164810]\n\tGetHandleVerifier [0x00007FF6CA6CB762+3609346]\n\tGetHandleVerifier [0x00007FF6CA721A80+3962400]\n\tGetHandleVerifier [0x00007FF6CA719F0F+3930799]\n\tGetHandleVerifier [0x00007FF6CA403CA6+694342]\n\t(No symbol) [0x00007FF6CA2E2218]\n\t(No symbol) [0x00007FF6CA16363E]\n\tGetHandleVerifier [0x00007FF6CA763058+4230136]\n\tBaseThreadInitThunk [0x00007FFD7EA0257D+29]\n\tRtlUserThreadStart [0x00007FFD7F32AA68+40]\n",
     "output_type": "error",
     "traceback": [
      "\u001b[1;31m---------------------------------------------------------------------------\u001b[0m",
      "\u001b[1;31mInvalidSessionIdException\u001b[0m                 Traceback (most recent call last)",
      "Cell \u001b[1;32mIn[43], line 4\u001b[0m\n\u001b[0;32m      1\u001b[0m \u001b[38;5;66;03m# 창을 종료\u001b[39;00m\n\u001b[0;32m      2\u001b[0m \u001b[38;5;66;03m# close는 창만 닫는다.\u001b[39;00m\n\u001b[0;32m      3\u001b[0m \u001b[38;5;66;03m# quit는 메모리까지 지운다.\u001b[39;00m\n\u001b[1;32m----> 4\u001b[0m \u001b[43mdriver\u001b[49m\u001b[38;5;241;43m.\u001b[39;49m\u001b[43mclose\u001b[49m\u001b[43m(\u001b[49m\u001b[43m)\u001b[49m\n\u001b[0;32m      5\u001b[0m driver\u001b[38;5;241m.\u001b[39mquit()\n",
      "File \u001b[1;32m~\\anaconda3\\lib\\site-packages\\selenium\\webdriver\\remote\\webdriver.py:455\u001b[0m, in \u001b[0;36mWebDriver.close\u001b[1;34m(self)\u001b[0m\n\u001b[0;32m    447\u001b[0m \u001b[38;5;28;01mdef\u001b[39;00m \u001b[38;5;21mclose\u001b[39m(\u001b[38;5;28mself\u001b[39m) \u001b[38;5;241m-\u001b[39m\u001b[38;5;241m>\u001b[39m \u001b[38;5;28;01mNone\u001b[39;00m:\n\u001b[0;32m    448\u001b[0m     \u001b[38;5;124;03m\"\"\"Closes the current window.\u001b[39;00m\n\u001b[0;32m    449\u001b[0m \n\u001b[0;32m    450\u001b[0m \u001b[38;5;124;03m    :Usage:\u001b[39;00m\n\u001b[1;32m   (...)\u001b[0m\n\u001b[0;32m    453\u001b[0m \u001b[38;5;124;03m            driver.close()\u001b[39;00m\n\u001b[0;32m    454\u001b[0m \u001b[38;5;124;03m    \"\"\"\u001b[39;00m\n\u001b[1;32m--> 455\u001b[0m     \u001b[38;5;28;43mself\u001b[39;49m\u001b[38;5;241;43m.\u001b[39;49m\u001b[43mexecute\u001b[49m\u001b[43m(\u001b[49m\u001b[43mCommand\u001b[49m\u001b[38;5;241;43m.\u001b[39;49m\u001b[43mCLOSE\u001b[49m\u001b[43m)\u001b[49m\n",
      "File \u001b[1;32m~\\anaconda3\\lib\\site-packages\\selenium\\webdriver\\remote\\webdriver.py:344\u001b[0m, in \u001b[0;36mWebDriver.execute\u001b[1;34m(self, driver_command, params)\u001b[0m\n\u001b[0;32m    342\u001b[0m response \u001b[38;5;241m=\u001b[39m \u001b[38;5;28mself\u001b[39m\u001b[38;5;241m.\u001b[39mcommand_executor\u001b[38;5;241m.\u001b[39mexecute(driver_command, params)\n\u001b[0;32m    343\u001b[0m \u001b[38;5;28;01mif\u001b[39;00m response:\n\u001b[1;32m--> 344\u001b[0m     \u001b[38;5;28;43mself\u001b[39;49m\u001b[38;5;241;43m.\u001b[39;49m\u001b[43merror_handler\u001b[49m\u001b[38;5;241;43m.\u001b[39;49m\u001b[43mcheck_response\u001b[49m\u001b[43m(\u001b[49m\u001b[43mresponse\u001b[49m\u001b[43m)\u001b[49m\n\u001b[0;32m    345\u001b[0m     response[\u001b[38;5;124m\"\u001b[39m\u001b[38;5;124mvalue\u001b[39m\u001b[38;5;124m\"\u001b[39m] \u001b[38;5;241m=\u001b[39m \u001b[38;5;28mself\u001b[39m\u001b[38;5;241m.\u001b[39m_unwrap_value(response\u001b[38;5;241m.\u001b[39mget(\u001b[38;5;124m\"\u001b[39m\u001b[38;5;124mvalue\u001b[39m\u001b[38;5;124m\"\u001b[39m, \u001b[38;5;28;01mNone\u001b[39;00m))\n\u001b[0;32m    346\u001b[0m     \u001b[38;5;28;01mreturn\u001b[39;00m response\n",
      "File \u001b[1;32m~\\anaconda3\\lib\\site-packages\\selenium\\webdriver\\remote\\errorhandler.py:229\u001b[0m, in \u001b[0;36mErrorHandler.check_response\u001b[1;34m(self, response)\u001b[0m\n\u001b[0;32m    227\u001b[0m         alert_text \u001b[38;5;241m=\u001b[39m value[\u001b[38;5;124m\"\u001b[39m\u001b[38;5;124malert\u001b[39m\u001b[38;5;124m\"\u001b[39m]\u001b[38;5;241m.\u001b[39mget(\u001b[38;5;124m\"\u001b[39m\u001b[38;5;124mtext\u001b[39m\u001b[38;5;124m\"\u001b[39m)\n\u001b[0;32m    228\u001b[0m     \u001b[38;5;28;01mraise\u001b[39;00m exception_class(message, screen, stacktrace, alert_text)  \u001b[38;5;66;03m# type: ignore[call-arg]  # mypy is not smart enough here\u001b[39;00m\n\u001b[1;32m--> 229\u001b[0m \u001b[38;5;28;01mraise\u001b[39;00m exception_class(message, screen, stacktrace)\n",
      "\u001b[1;31mInvalidSessionIdException\u001b[0m: Message: invalid session id\nStacktrace:\n\tGetHandleVerifier [0x00007FF6CA367D12+55474]\n\t(No symbol) [0x00007FF6CA2D77C2]\n\t(No symbol) [0x00007FF6CA18DF9D]\n\t(No symbol) [0x00007FF6CA1C378E]\n\t(No symbol) [0x00007FF6CA1EF052]\n\t(No symbol) [0x00007FF6CA1EADC0]\n\t(No symbol) [0x00007FF6CA1EA6C6]\n\t(No symbol) [0x00007FF6CA164810]\n\tGetHandleVerifier [0x00007FF6CA6CB762+3609346]\n\tGetHandleVerifier [0x00007FF6CA721A80+3962400]\n\tGetHandleVerifier [0x00007FF6CA719F0F+3930799]\n\tGetHandleVerifier [0x00007FF6CA403CA6+694342]\n\t(No symbol) [0x00007FF6CA2E2218]\n\t(No symbol) [0x00007FF6CA16363E]\n\tGetHandleVerifier [0x00007FF6CA763058+4230136]\n\tBaseThreadInitThunk [0x00007FFD7EA0257D+29]\n\tRtlUserThreadStart [0x00007FFD7F32AA68+40]\n"
     ]
    }
   ],
   "source": [
    "# 창을 종료\n",
    "# close는 창만 닫는다.\n",
    "# quit는 메모리까지 지운다.\n",
    "driver.close()\n",
    "driver.quit()"
   ]
  },
  {
   "cell_type": "code",
   "execution_count": null,
   "id": "0101bb4a",
   "metadata": {},
   "outputs": [],
   "source": []
  },
  {
   "cell_type": "code",
   "execution_count": null,
   "id": "67fc19da",
   "metadata": {},
   "outputs": [],
   "source": []
  },
  {
   "cell_type": "code",
   "execution_count": null,
   "id": "61650519",
   "metadata": {},
   "outputs": [],
   "source": []
  },
  {
   "cell_type": "code",
   "execution_count": null,
   "id": "d74b21af",
   "metadata": {},
   "outputs": [],
   "source": []
  },
  {
   "cell_type": "code",
   "execution_count": null,
   "id": "d1ae6970",
   "metadata": {},
   "outputs": [],
   "source": []
  },
  {
   "cell_type": "code",
   "execution_count": null,
   "id": "315e772f",
   "metadata": {},
   "outputs": [],
   "source": []
  }
 ],
 "metadata": {
  "kernelspec": {
   "display_name": "Python 3 (ipykernel)",
   "language": "python",
   "name": "python3"
  },
  "language_info": {
   "codemirror_mode": {
    "name": "ipython",
    "version": 3
   },
   "file_extension": ".py",
   "mimetype": "text/x-python",
   "name": "python",
   "nbconvert_exporter": "python",
   "pygments_lexer": "ipython3",
   "version": "3.10.9"
  },
  "toc": {
   "base_numbering": 1,
   "nav_menu": {},
   "number_sections": true,
   "sideBar": true,
   "skip_h1_title": false,
   "title_cell": "Table of Contents",
   "title_sidebar": "Contents",
   "toc_cell": false,
   "toc_position": {},
   "toc_section_display": true,
   "toc_window_display": false
  }
 },
 "nbformat": 4,
 "nbformat_minor": 5
}
