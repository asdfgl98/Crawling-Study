{
 "cells": [
  {
   "cell_type": "code",
   "execution_count": 2,
   "id": "06b314cc",
   "metadata": {
    "ExecuteTime": {
     "end_time": "2023-10-11T05:21:36.973924Z",
     "start_time": "2023-10-11T05:21:36.679609Z"
    }
   },
   "outputs": [],
   "source": [
    "from selenium import webdriver as wb\n",
    "from selenium.webdriver.common.by import By\n",
    "from selenium.webdriver.common.keys import Keys\n",
    "import time\n",
    "import pandas as pd"
   ]
  },
  {
   "cell_type": "code",
   "execution_count": 36,
   "id": "ba70bf7c",
   "metadata": {
    "ExecuteTime": {
     "end_time": "2023-10-11T05:47:55.146771Z",
     "start_time": "2023-10-11T05:47:15.838528Z"
    }
   },
   "outputs": [],
   "source": [
    "# 1. 크롬 실행\n",
    "# 1.1 네이버 메인페이지로 이동\n",
    "driver = wb.Chrome()\n",
    "driver.get('http://naver.com')\n",
    "time.sleep(1)\n",
    "# 2. 검색창\n",
    "search = driver.find_element(By.ID, 'query')\n",
    "search.send_keys('아시안게임')\n",
    "\n",
    "search.send_keys(Keys.ENTER)\n",
    "\n",
    "# 3. 탭 상단의 오른쪽 화살표 버튼 클릭\n",
    "next_click = driver.find_element(By.CSS_SELECTOR, '#lnb > div.lnb_group > div > div.lnb_nav_area._nav_area_root > div > div.api_btn_page._nav_btn_root > div.btn_next._next > a > span')\n",
    "next_click.click()\n",
    "time.sleep(1)\n",
    "news_tab = driver.find_element(By.CSS_SELECTOR, '#lnb > div.lnb_group > div > div.lnb_nav_area._nav_area_root > div > div.api_flicking_wrap._conveyer_root > div:nth-child(7) > a')\n",
    "news_tab.click()\n",
    "time.sleep(1)\n",
    "news_list = []\n",
    "\n",
    "for n in range(10):\n",
    "    # 4. 뉴스 타이틀만 수집\n",
    "    time.sleep(1)\n",
    "    news_title = driver.find_elements(By.CSS_SELECTOR, 'div.news_area>a')\n",
    "    for i in news_title:\n",
    "        news_list.append(i.text)\n",
    "\n",
    "    # 5. 화면 최하단으로 스크롤 이동\n",
    "    body = driver.find_element(By.TAG_NAME, 'body')\n",
    "    body.send_keys(Keys.END)\n",
    "    time.sleep(1)\n",
    "\n",
    "    # 6. 다음페이지로 이동하는 오른쪽 화살표 버튼 클릭\n",
    "    next_page = driver.find_element(By.CSS_SELECTOR, '#main_pack > div.api_sc_page_wrap > div > a.btn_next > i')\n",
    "    next_page.click()\n",
    "\n",
    "driver.quit()\n",
    "\n",
    "data = {'title' : news_list}\n",
    "\n",
    "df_data = pd.DataFrame(data)\n",
    "df_data.to_csv('./data/뉴스타이틀.csv', encoding='euc-kr')\n"
   ]
  },
  {
   "cell_type": "code",
   "execution_count": null,
   "id": "1e9c674a",
   "metadata": {},
   "outputs": [],
   "source": []
  },
  {
   "cell_type": "code",
   "execution_count": null,
   "id": "275e37c6",
   "metadata": {},
   "outputs": [],
   "source": []
  },
  {
   "cell_type": "code",
   "execution_count": null,
   "id": "3c0792a0",
   "metadata": {},
   "outputs": [],
   "source": []
  },
  {
   "cell_type": "code",
   "execution_count": null,
   "id": "ddbec45c",
   "metadata": {},
   "outputs": [],
   "source": []
  },
  {
   "cell_type": "code",
   "execution_count": null,
   "id": "40af4304",
   "metadata": {},
   "outputs": [],
   "source": []
  },
  {
   "cell_type": "code",
   "execution_count": null,
   "id": "840062a8",
   "metadata": {},
   "outputs": [],
   "source": []
  }
 ],
 "metadata": {
  "kernelspec": {
   "display_name": "Python 3 (ipykernel)",
   "language": "python",
   "name": "python3"
  },
  "language_info": {
   "codemirror_mode": {
    "name": "ipython",
    "version": 3
   },
   "file_extension": ".py",
   "mimetype": "text/x-python",
   "name": "python",
   "nbconvert_exporter": "python",
   "pygments_lexer": "ipython3",
   "version": "3.10.9"
  },
  "toc": {
   "base_numbering": 1,
   "nav_menu": {},
   "number_sections": true,
   "sideBar": true,
   "skip_h1_title": false,
   "title_cell": "Table of Contents",
   "title_sidebar": "Contents",
   "toc_cell": false,
   "toc_position": {},
   "toc_section_display": true,
   "toc_window_display": false
  }
 },
 "nbformat": 4,
 "nbformat_minor": 5
}
