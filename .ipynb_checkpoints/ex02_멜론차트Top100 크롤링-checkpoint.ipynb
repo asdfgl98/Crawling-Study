{
 "cells": [
  {
   "cell_type": "code",
   "execution_count": 1,
   "id": "47d19b6e",
   "metadata": {
    "ExecuteTime": {
     "end_time": "2023-10-10T02:28:07.298870Z",
     "start_time": "2023-10-10T02:28:07.234474Z"
    }
   },
   "outputs": [],
   "source": [
    "import requests as req\n",
    "from bs4 import BeautifulSoup as bs"
   ]
  },
  {
   "cell_type": "code",
   "execution_count": 48,
   "id": "79135b1b",
   "metadata": {
    "ExecuteTime": {
     "end_time": "2023-10-10T03:26:19.041027Z",
     "start_time": "2023-10-10T03:26:18.665687Z"
    },
    "scrolled": true
   },
   "outputs": [
    {
     "name": "stdout",
     "output_type": "stream",
     "text": [
      "Love Lee\n",
      "후라이의 꿈\n",
      "Seven (feat. Latto) - Clean Ver.\n",
      "Do or Die\n",
      "Smoke (Prod. Dynamicduo, Padi)\n",
      "You & Me\n",
      "Super Shy\n",
      "ETA\n",
      "Fast Forward\n",
      "사랑은 늘 도망가\n",
      "모래 알갱이\n",
      "사막에서 꽃을 피우듯\n",
      "I Love My Body\n",
      "우리들의 블루스\n",
      "헤어지자 말해요\n",
      "Either Way\n",
      "다시 만날 수 있을까\n",
      "I AM\n",
      "무지개\n",
      "이제 나만 믿어요\n",
      "London Boy\n",
      "Polaroid\n",
      "아버지\n",
      "인생찬가\n",
      "Bubble\n",
      "A bientot\n",
      "Still With You\n",
      "퀸카 (Queencard)\n",
      "Get A Guitar\n",
      "잘 지내자, 우리 (여름날 우리 X 로이킴)\n",
      "연애편지\n",
      "Hype boy\n",
      "Steal The Show (From “엘리멘탈”)\n",
      "Spicy\n",
      "이브, 프시케 그리고 푸른 수염의 아내\n",
      "Fact Check (불가사의; 不可思議)\n",
      "Ditto\n",
      "Kitsch\n",
      "3D (feat. Jack Harlow)\n",
      "Love Me Again\n",
      "New Jeans\n",
      "Dynamite\n",
      "CAKE\n",
      "Summer (Feat. BE’O (비오))\n",
      "너의 모든 순간\n",
      "사건의 지평선\n",
      "After LIKE\n",
      "어떻게 이별까지 사랑하겠어, 널 사랑하는 거지\n",
      "UNFORGIVEN (feat. Nile Rodgers)\n",
      "KIDDING\n",
      "Slow Dancing\n",
      "LOVE DIVE\n",
      "사랑인가 봐\n",
      "OMG\n",
      "나에게 그대만이\n",
      "I Don't Think That I Like Her\n",
      "Vancouver 2\n",
      "심(心)\n",
      "Off The Record\n",
      "Attention\n",
      "Butter\n",
      "봄날\n",
      "I WANT\n",
      "사랑하지 않아서 그랬어\n",
      "Dreamers [Music from the FIFA World Cup Qatar 2022 Official Soundtrack] (Feat. FIFA Sound)\n",
      "별 떨어진다 (I Do)\n",
      "꽃\n",
      "물론\n",
      "손오공\n",
      "Rainy Days\n",
      "Like Crazy\n",
      "Dangerously\n",
      "취중고백\n",
      "주저하는 연인들을 위해\n",
      "무중력 (Space)\n",
      "Baggy Jeans\n",
      "Somebody\n",
      "다정히 내 이름을 부르면\n",
      "Teddy Bear\n",
      "Take Two\n",
      "건물 사이에 피어난 장미 (Rose Blossom)\n",
      "파이팅 해야지 (Feat. 이영지)\n",
      "Angel Eyes\n",
      "사람 Pt.2 (feat. 아이유)\n",
      "미친 사랑의 노래\n",
      "해요 (2022)\n",
      "Cool With You\n",
      "사실말야내가말야그게그러니까말이야\n",
      "STAY\n",
      "그중에 그대를 만나\n",
      "Parade (행진)\n",
      "폼미쳤다\n",
      "Click Like (Prod. Crush) (Feat. Paul Blanco)\n",
      "민들레 (single ver.)\n",
      "Yacht\n",
      "ANTIFRAGILE\n",
      "Better Things\n",
      "밤 (Night)\n",
      "Candy\n",
      "사랑..그게 뭔데\n"
     ]
    }
   ],
   "source": [
    "melon = 'https://www.melon.com/chart/index.htm'\n",
    "\n",
    "# req.get(melon) -> Response[406] error 발생\n",
    "# Response[406] : 클라이언트의 요청에 문제가 있을 때 출력되는 에러코드\n",
    "# 멜론 페이지에서 내가 브라우저가 아닌 코드로 접근한것으로 인지하여 접근 불가처리\n",
    "# 코드로 접근할 때 브라우저처럼 headers에 브라우저로 인식하는 정보를 포함해서 요청하기\n",
    "h = {\"User-Agent\": \"Mozilla/5.0 (Windows NT 10.0; Win64; x64) AppleWebKit/537.36 (KHTML, like Gecko) Chrome/117.0.0.0 Safari/537.36\"}\n",
    "res = req.get(melon,headers=h)\n",
    "\n",
    "soup = bs(res.text, 'lxml')\n",
    "\n",
    "for data in soup.select('div.rank01>span>a'):\n",
    "    print(data.text)"
   ]
  },
  {
   "cell_type": "code",
   "execution_count": 49,
   "id": "86034e3d",
   "metadata": {
    "ExecuteTime": {
     "end_time": "2023-10-10T03:26:22.841907Z",
     "start_time": "2023-10-10T03:26:22.776887Z"
    },
    "scrolled": true
   },
   "outputs": [
    {
     "name": "stdout",
     "output_type": "stream",
     "text": [
      "AKMU (악뮤)\n",
      "AKMU (악뮤)\n",
      "정국\n",
      "임영웅\n",
      "다이나믹 듀오, 이영지\n",
      "제니 (JENNIE)\n",
      "NewJeans\n",
      "NewJeans\n",
      "전소미\n",
      "임영웅\n",
      "임영웅\n",
      "우디 (Woody)\n",
      "화사 (HWASA)\n",
      "임영웅\n",
      "박재정\n",
      "IVE (아이브)\n",
      "임영웅\n",
      "IVE (아이브)\n",
      "임영웅\n",
      "임영웅\n",
      "임영웅\n",
      "임영웅\n",
      "임영웅\n",
      "임영웅\n",
      "STAYC(스테이씨)\n",
      "임영웅\n",
      "정국\n",
      "(여자)아이들\n",
      "RIIZE\n",
      "로이킴\n",
      "임영웅\n",
      "NewJeans\n",
      "Lauv\n",
      "aespa\n",
      "LE SSERAFIM (르세라핌)\n",
      "NCT 127\n",
      "NewJeans\n",
      "IVE (아이브)\n",
      "정국\n",
      "V\n",
      "NewJeans\n",
      "방탄소년단\n",
      "ITZY (있지)\n",
      "Paul Blanco\n",
      "성시경\n",
      "윤하 (YOUNHA)\n",
      "IVE (아이브)\n",
      "AKMU (악뮤)\n",
      "LE SSERAFIM (르세라핌)\n",
      "이세계아이돌\n",
      "V\n",
      "IVE (아이브)\n",
      "멜로망스\n",
      "NewJeans\n",
      "탑현\n",
      "Charlie Puth\n",
      "BIG Naughty (서동현)\n",
      "DK(디셈버)\n",
      "IVE (아이브)\n",
      "NewJeans\n",
      "방탄소년단\n",
      "방탄소년단\n",
      "IVE (아이브)\n",
      "임한별\n",
      "정국, 방탄소년단\n",
      "디오 (D.O.)\n",
      "지수 (JISOO)\n",
      "허각\n",
      "세븐틴 (SEVENTEEN)\n",
      "V\n",
      "지민\n",
      "Charlie Puth\n",
      "김민석 (멜로망스)\n",
      "잔나비\n",
      "NCT 127\n",
      "NCT U\n",
      "디오 (D.O.)\n",
      "경서예지, 전건호\n",
      "STAYC(스테이씨)\n",
      "방탄소년단\n",
      "H1-KEY (하이키)\n",
      "부석순 (SEVENTEEN)\n",
      "NCT 127\n",
      "Agust D\n",
      "김연지, DK(디셈버)\n",
      "#안녕\n",
      "NewJeans\n",
      "케이시 (Kassy)\n",
      "The Kid LAROI, Justin Bieber\n",
      "김호중\n",
      "NCT 127\n",
      "영탁\n",
      "Crush\n",
      "우효\n",
      "NCT 127\n",
      "LE SSERAFIM (르세라핌)\n",
      "aespa\n",
      "dori\n",
      "NCT DREAM\n",
      "지아\n"
     ]
    }
   ],
   "source": [
    "for data in soup.select('div.rank02>span'):\n",
    "    print(data.text)"
   ]
  },
  {
   "cell_type": "code",
   "execution_count": 35,
   "id": "f1bbc8ce",
   "metadata": {
    "ExecuteTime": {
     "end_time": "2023-10-10T03:20:51.039623Z",
     "start_time": "2023-10-10T03:20:50.946100Z"
    }
   },
   "outputs": [
    {
     "name": "stdout",
     "output_type": "stream",
     "text": [
      "100\n",
      "105\n"
     ]
    }
   ],
   "source": [
    "# 크롤링의 목표 : 데이터 수집(정확한)\n",
    "# 개수가 정해져 있는 데이터를 수집할 때는 개수 확인 필수\n",
    "song = soup.select('div.rank01>span>a')\n",
    "singer = soup.select('div.rank02>a')\n",
    "print(len(song))\n",
    "print(len(singer))\n",
    "# 문제점 : 부른 가수가 2명인 노래가 존재 -> 가수별 각자 수집되면서 데이터수가 늘어남"
   ]
  },
  {
   "cell_type": "code",
   "execution_count": 53,
   "id": "238a379b",
   "metadata": {
    "ExecuteTime": {
     "end_time": "2023-10-10T03:31:02.083921Z",
     "start_time": "2023-10-10T03:31:02.016723Z"
    }
   },
   "outputs": [],
   "source": [
    "# 가수를 묶어서 데이터 가져오기\n",
    "# a태그를 각자 가져오는 것이 아니라 부모인 div 태그를 묶어서 가져오기\n",
    "singer = soup.select('div.rank02>span')"
   ]
  },
  {
   "cell_type": "markdown",
   "id": "0b87f1dd",
   "metadata": {},
   "source": [
    "- 데이터 수집 : 방대한 데이터 안에서 내가 원하는 정확한 데이터만을 추출해내는 작업\n",
    "- 정확한 데이터인지 확인하는 습관 필요 - > 페이지 분석"
   ]
  },
  {
   "cell_type": "markdown",
   "id": "d870906d",
   "metadata": {
    "ExecuteTime": {
     "end_time": "2023-10-10T03:31:18.006912Z",
     "start_time": "2023-10-10T03:31:17.354410Z"
    }
   },
   "source": [
    "### 콘텐츠만 추출해서 DataFrame 으로 만들어서 csv 파일로 내보내기\n"
   ]
  },
  {
   "cell_type": "code",
   "execution_count": 55,
   "id": "6de43951",
   "metadata": {
    "ExecuteTime": {
     "end_time": "2023-10-10T03:32:00.316326Z",
     "start_time": "2023-10-10T03:32:00.302748Z"
    }
   },
   "outputs": [],
   "source": [
    "import pandas as pd"
   ]
  },
  {
   "cell_type": "code",
   "execution_count": 71,
   "id": "e4ba0cf5",
   "metadata": {
    "ExecuteTime": {
     "end_time": "2023-10-10T03:41:52.448705Z",
     "start_time": "2023-10-10T03:41:52.441729Z"
    }
   },
   "outputs": [],
   "source": [
    "song_list = []\n",
    "singer_list = []\n",
    "rank_list = []\n",
    "i = 0\n",
    "for data in song:\n",
    "    i = i+1\n",
    "    song_list.append(data.text)\n",
    "    rank_list.append(i)\n",
    "for data in singer:\n",
    "    singer_list.append(data.text)\n",
    "    "
   ]
  },
  {
   "cell_type": "markdown",
   "id": "72e8dfad",
   "metadata": {},
   "source": [
    "### 데이터 프레임 만들기 1번 방법\n",
    "- concat 활용"
   ]
  },
  {
   "cell_type": "code",
   "execution_count": 67,
   "id": "eb5778a5",
   "metadata": {
    "ExecuteTime": {
     "end_time": "2023-10-10T03:37:27.305727Z",
     "start_time": "2023-10-10T03:37:27.289822Z"
    }
   },
   "outputs": [],
   "source": [
    "df_song = pd.DataFrame(song_list, columns=['노래'])\n",
    "df_singer = pd.DataFrame(singer_list, columns=['가수'])"
   ]
  },
  {
   "cell_type": "code",
   "execution_count": 68,
   "id": "a91f9e29",
   "metadata": {
    "ExecuteTime": {
     "end_time": "2023-10-10T03:37:28.130506Z",
     "start_time": "2023-10-10T03:37:28.109808Z"
    },
    "scrolled": false
   },
   "outputs": [
    {
     "data": {
      "text/html": [
       "<div>\n",
       "<style scoped>\n",
       "    .dataframe tbody tr th:only-of-type {\n",
       "        vertical-align: middle;\n",
       "    }\n",
       "\n",
       "    .dataframe tbody tr th {\n",
       "        vertical-align: top;\n",
       "    }\n",
       "\n",
       "    .dataframe thead th {\n",
       "        text-align: right;\n",
       "    }\n",
       "</style>\n",
       "<table border=\"1\" class=\"dataframe\">\n",
       "  <thead>\n",
       "    <tr style=\"text-align: right;\">\n",
       "      <th></th>\n",
       "      <th>노래</th>\n",
       "      <th>가수</th>\n",
       "    </tr>\n",
       "  </thead>\n",
       "  <tbody>\n",
       "    <tr>\n",
       "      <th>0</th>\n",
       "      <td>Love Lee</td>\n",
       "      <td>AKMU (악뮤)</td>\n",
       "    </tr>\n",
       "    <tr>\n",
       "      <th>1</th>\n",
       "      <td>후라이의 꿈</td>\n",
       "      <td>AKMU (악뮤)</td>\n",
       "    </tr>\n",
       "    <tr>\n",
       "      <th>2</th>\n",
       "      <td>Seven (feat. Latto) - Clean Ver.</td>\n",
       "      <td>정국</td>\n",
       "    </tr>\n",
       "    <tr>\n",
       "      <th>3</th>\n",
       "      <td>Smoke (Prod. Dynamicduo, Padi)</td>\n",
       "      <td>임영웅</td>\n",
       "    </tr>\n",
       "    <tr>\n",
       "      <th>4</th>\n",
       "      <td>You &amp; Me</td>\n",
       "      <td>다이나믹 듀오, 이영지</td>\n",
       "    </tr>\n",
       "    <tr>\n",
       "      <th>...</th>\n",
       "      <td>...</td>\n",
       "      <td>...</td>\n",
       "    </tr>\n",
       "    <tr>\n",
       "      <th>95</th>\n",
       "      <td>민들레 (single ver.)</td>\n",
       "      <td>LE SSERAFIM (르세라핌)</td>\n",
       "    </tr>\n",
       "    <tr>\n",
       "      <th>96</th>\n",
       "      <td>ANTIFRAGILE</td>\n",
       "      <td>aespa</td>\n",
       "    </tr>\n",
       "    <tr>\n",
       "      <th>97</th>\n",
       "      <td>Je Ne Sais Quoi</td>\n",
       "      <td>dori</td>\n",
       "    </tr>\n",
       "    <tr>\n",
       "      <th>98</th>\n",
       "      <td>Better Things</td>\n",
       "      <td>NCT DREAM</td>\n",
       "    </tr>\n",
       "    <tr>\n",
       "      <th>99</th>\n",
       "      <td>가을 타나 봐</td>\n",
       "      <td>지아</td>\n",
       "    </tr>\n",
       "  </tbody>\n",
       "</table>\n",
       "<p>100 rows × 2 columns</p>\n",
       "</div>"
      ],
      "text/plain": [
       "                                  노래                  가수\n",
       "0                           Love Lee           AKMU (악뮤)\n",
       "1                             후라이의 꿈           AKMU (악뮤)\n",
       "2   Seven (feat. Latto) - Clean Ver.                  정국\n",
       "3     Smoke (Prod. Dynamicduo, Padi)                 임영웅\n",
       "4                           You & Me        다이나믹 듀오, 이영지\n",
       "..                               ...                 ...\n",
       "95                 민들레 (single ver.)  LE SSERAFIM (르세라핌)\n",
       "96                       ANTIFRAGILE               aespa\n",
       "97                   Je Ne Sais Quoi                dori\n",
       "98                     Better Things           NCT DREAM\n",
       "99                           가을 타나 봐                  지아\n",
       "\n",
       "[100 rows x 2 columns]"
      ]
     },
     "execution_count": 68,
     "metadata": {},
     "output_type": "execute_result"
    }
   ],
   "source": [
    "pd.concat([df_song,df_singer], axis=1)"
   ]
  },
  {
   "cell_type": "markdown",
   "id": "c777d0b6",
   "metadata": {},
   "source": [
    "### 데이터프레임 만들기 2번 방법\n",
    "- 딕셔너리 활용"
   ]
  },
  {
   "cell_type": "code",
   "execution_count": 78,
   "id": "386a5967",
   "metadata": {
    "ExecuteTime": {
     "end_time": "2023-10-10T03:43:26.965058Z",
     "start_time": "2023-10-10T03:43:26.945671Z"
    }
   },
   "outputs": [],
   "source": [
    "div = { '순위': rank_list,'노래제목' : song_list, '가수' : singer_list}\n",
    "df_melon = pd.DataFrame(div)"
   ]
  },
  {
   "cell_type": "code",
   "execution_count": 79,
   "id": "c6a1b601",
   "metadata": {
    "ExecuteTime": {
     "end_time": "2023-10-10T03:43:41.331685Z",
     "start_time": "2023-10-10T03:43:41.313577Z"
    }
   },
   "outputs": [],
   "source": [
    "df_melon.set_index('순위', inplace=True)"
   ]
  },
  {
   "cell_type": "code",
   "execution_count": 84,
   "id": "1c24e714",
   "metadata": {
    "ExecuteTime": {
     "end_time": "2023-10-10T03:45:07.115066Z",
     "start_time": "2023-10-10T03:45:07.096486Z"
    }
   },
   "outputs": [
    {
     "data": {
      "text/html": [
       "<div>\n",
       "<style scoped>\n",
       "    .dataframe tbody tr th:only-of-type {\n",
       "        vertical-align: middle;\n",
       "    }\n",
       "\n",
       "    .dataframe tbody tr th {\n",
       "        vertical-align: top;\n",
       "    }\n",
       "\n",
       "    .dataframe thead th {\n",
       "        text-align: right;\n",
       "    }\n",
       "</style>\n",
       "<table border=\"1\" class=\"dataframe\">\n",
       "  <thead>\n",
       "    <tr style=\"text-align: right;\">\n",
       "      <th></th>\n",
       "      <th>노래제목</th>\n",
       "      <th>가수</th>\n",
       "    </tr>\n",
       "    <tr>\n",
       "      <th>순위</th>\n",
       "      <th></th>\n",
       "      <th></th>\n",
       "    </tr>\n",
       "  </thead>\n",
       "  <tbody>\n",
       "    <tr>\n",
       "      <th>1</th>\n",
       "      <td>Love Lee</td>\n",
       "      <td>AKMU (악뮤)</td>\n",
       "    </tr>\n",
       "    <tr>\n",
       "      <th>2</th>\n",
       "      <td>후라이의 꿈</td>\n",
       "      <td>AKMU (악뮤)</td>\n",
       "    </tr>\n",
       "    <tr>\n",
       "      <th>3</th>\n",
       "      <td>Seven (feat. Latto) - Clean Ver.</td>\n",
       "      <td>정국</td>\n",
       "    </tr>\n",
       "    <tr>\n",
       "      <th>4</th>\n",
       "      <td>Smoke (Prod. Dynamicduo, Padi)</td>\n",
       "      <td>임영웅</td>\n",
       "    </tr>\n",
       "    <tr>\n",
       "      <th>5</th>\n",
       "      <td>You &amp; Me</td>\n",
       "      <td>다이나믹 듀오, 이영지</td>\n",
       "    </tr>\n",
       "    <tr>\n",
       "      <th>...</th>\n",
       "      <td>...</td>\n",
       "      <td>...</td>\n",
       "    </tr>\n",
       "    <tr>\n",
       "      <th>96</th>\n",
       "      <td>민들레 (single ver.)</td>\n",
       "      <td>LE SSERAFIM (르세라핌)</td>\n",
       "    </tr>\n",
       "    <tr>\n",
       "      <th>97</th>\n",
       "      <td>ANTIFRAGILE</td>\n",
       "      <td>aespa</td>\n",
       "    </tr>\n",
       "    <tr>\n",
       "      <th>98</th>\n",
       "      <td>Je Ne Sais Quoi</td>\n",
       "      <td>dori</td>\n",
       "    </tr>\n",
       "    <tr>\n",
       "      <th>99</th>\n",
       "      <td>Better Things</td>\n",
       "      <td>NCT DREAM</td>\n",
       "    </tr>\n",
       "    <tr>\n",
       "      <th>100</th>\n",
       "      <td>가을 타나 봐</td>\n",
       "      <td>지아</td>\n",
       "    </tr>\n",
       "  </tbody>\n",
       "</table>\n",
       "<p>100 rows × 2 columns</p>\n",
       "</div>"
      ],
      "text/plain": [
       "                                 노래제목                  가수\n",
       "순위                                                       \n",
       "1                            Love Lee           AKMU (악뮤)\n",
       "2                              후라이의 꿈           AKMU (악뮤)\n",
       "3    Seven (feat. Latto) - Clean Ver.                  정국\n",
       "4      Smoke (Prod. Dynamicduo, Padi)                 임영웅\n",
       "5                            You & Me        다이나믹 듀오, 이영지\n",
       "..                                ...                 ...\n",
       "96                  민들레 (single ver.)  LE SSERAFIM (르세라핌)\n",
       "97                        ANTIFRAGILE               aespa\n",
       "98                    Je Ne Sais Quoi                dori\n",
       "99                      Better Things           NCT DREAM\n",
       "100                           가을 타나 봐                  지아\n",
       "\n",
       "[100 rows x 2 columns]"
      ]
     },
     "execution_count": 84,
     "metadata": {},
     "output_type": "execute_result"
    }
   ],
   "source": [
    "df_melon"
   ]
  },
  {
   "cell_type": "markdown",
   "id": "3a231a86",
   "metadata": {
    "ExecuteTime": {
     "end_time": "2023-10-10T03:43:44.797246Z",
     "start_time": "2023-10-10T03:43:44.786198Z"
    }
   },
   "source": [
    "### CSV 파일로 내보내기"
   ]
  },
  {
   "cell_type": "code",
   "execution_count": 91,
   "id": "5c2c3716",
   "metadata": {
    "ExecuteTime": {
     "end_time": "2023-10-10T03:45:53.153860Z",
     "start_time": "2023-10-10T03:45:53.144267Z"
    }
   },
   "outputs": [],
   "source": [
    "df_melon.to_csv('data/멜론차트.csv', encoding='euc-kr')"
   ]
  },
  {
   "cell_type": "code",
   "execution_count": null,
   "id": "290c6b5b",
   "metadata": {},
   "outputs": [],
   "source": []
  }
 ],
 "metadata": {
  "kernelspec": {
   "display_name": "Python 3 (ipykernel)",
   "language": "python",
   "name": "python3"
  },
  "language_info": {
   "codemirror_mode": {
    "name": "ipython",
    "version": 3
   },
   "file_extension": ".py",
   "mimetype": "text/x-python",
   "name": "python",
   "nbconvert_exporter": "python",
   "pygments_lexer": "ipython3",
   "version": "3.10.9"
  },
  "toc": {
   "base_numbering": 1,
   "nav_menu": {},
   "number_sections": true,
   "sideBar": true,
   "skip_h1_title": false,
   "title_cell": "Table of Contents",
   "title_sidebar": "Contents",
   "toc_cell": false,
   "toc_position": {},
   "toc_section_display": true,
   "toc_window_display": false
  }
 },
 "nbformat": 4,
 "nbformat_minor": 5
}
