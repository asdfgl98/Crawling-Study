{
 "cells": [
  {
   "cell_type": "code",
   "execution_count": 42,
   "id": "b3496ff1",
   "metadata": {
    "ExecuteTime": {
     "end_time": "2023-10-11T07:26:49.432947Z",
     "start_time": "2023-10-11T07:26:49.422351Z"
    }
   },
   "outputs": [],
   "source": [
    "from selenium import webdriver as wb\n",
    "from selenium.webdriver.common.keys import Keys\n",
    "from selenium.webdriver.common.by import By\n",
    "import time\n",
    "import pandas as pd"
   ]
  },
  {
   "cell_type": "code",
   "execution_count": 74,
   "id": "6e645e39",
   "metadata": {
    "ExecuteTime": {
     "end_time": "2023-10-11T07:52:21.362465Z",
     "start_time": "2023-10-11T07:52:18.596296Z"
    }
   },
   "outputs": [],
   "source": [
    "driver = wb.Chrome()\n",
    "driver.get('https://map.naver.com/p?c=15.00,0,0,0,dh')"
   ]
  },
  {
   "cell_type": "code",
   "execution_count": 75,
   "id": "a0da315e",
   "metadata": {
    "ExecuteTime": {
     "end_time": "2023-10-11T07:52:23.872581Z",
     "start_time": "2023-10-11T07:52:23.733849Z"
    }
   },
   "outputs": [],
   "source": [
    "# 검색창에 동명동 맛집 검색\n",
    "# 네이버 지도 검색창의 id 값이 매번 변경되므로, class를 사용한다.\n",
    "search = driver.find_element(By.CLASS_NAME, 'input_search')\n",
    "search.send_keys('동명동 맛집')\n",
    "search.send_keys(Keys.ENTER)"
   ]
  },
  {
   "cell_type": "code",
   "execution_count": 57,
   "id": "e88cd160",
   "metadata": {
    "ExecuteTime": {
     "end_time": "2023-10-11T07:38:55.363676Z",
     "start_time": "2023-10-11T07:38:55.341687Z"
    }
   },
   "outputs": [
    {
     "data": {
      "text/plain": [
       "[]"
      ]
     },
     "execution_count": 57,
     "metadata": {},
     "output_type": "execute_result"
    }
   ],
   "source": [
    "# 클릭할 가게 이름 수집\n",
    "# 선택이 되지 않는 이유 : 데이터가 iframe으로 감싸져 있기 때문\n",
    "# 해결방법 : 보고있는 html을 iframe창으로 이동\n",
    "name = driver.find_elements(By.CSS_SELECTOR, 'span.place_bluelink.TYaxT')\n",
    "name"
   ]
  },
  {
   "cell_type": "code",
   "execution_count": 76,
   "id": "8b5fd26d",
   "metadata": {
    "ExecuteTime": {
     "end_time": "2023-10-11T07:52:29.441355Z",
     "start_time": "2023-10-11T07:52:29.405864Z"
    }
   },
   "outputs": [],
   "source": [
    "driver.switch_to.frame('searchIframe')"
   ]
  },
  {
   "cell_type": "code",
   "execution_count": 77,
   "id": "a91ca8b3",
   "metadata": {
    "ExecuteTime": {
     "end_time": "2023-10-11T07:52:31.601818Z",
     "start_time": "2023-10-11T07:52:31.516532Z"
    }
   },
   "outputs": [],
   "source": [
    "name = driver.find_elements(By.CSS_SELECTOR, 'span.place_bluelink.TYaxT')\n",
    "name[0].click()"
   ]
  },
  {
   "cell_type": "code",
   "execution_count": 48,
   "id": "ab6f8a49",
   "metadata": {
    "ExecuteTime": {
     "end_time": "2023-10-11T07:27:09.845685Z",
     "start_time": "2023-10-11T07:27:09.717339Z"
    },
    "collapsed": true
   },
   "outputs": [
    {
     "ename": "NoSuchFrameException",
     "evalue": "Message: entryIframe\n",
     "output_type": "error",
     "traceback": [
      "\u001b[1;31m---------------------------------------------------------------------------\u001b[0m",
      "\u001b[1;31mNoSuchElementException\u001b[0m                    Traceback (most recent call last)",
      "File \u001b[1;32m~\\anaconda3\\lib\\site-packages\\selenium\\webdriver\\remote\\switch_to.py:88\u001b[0m, in \u001b[0;36mSwitchTo.frame\u001b[1;34m(self, frame_reference)\u001b[0m\n\u001b[0;32m     87\u001b[0m \u001b[38;5;28;01mtry\u001b[39;00m:\n\u001b[1;32m---> 88\u001b[0m     frame_reference \u001b[38;5;241m=\u001b[39m \u001b[38;5;28;43mself\u001b[39;49m\u001b[38;5;241;43m.\u001b[39;49m\u001b[43m_driver\u001b[49m\u001b[38;5;241;43m.\u001b[39;49m\u001b[43mfind_element\u001b[49m\u001b[43m(\u001b[49m\u001b[43mBy\u001b[49m\u001b[38;5;241;43m.\u001b[39;49m\u001b[43mID\u001b[49m\u001b[43m,\u001b[49m\u001b[43m \u001b[49m\u001b[43mframe_reference\u001b[49m\u001b[43m)\u001b[49m\n\u001b[0;32m     89\u001b[0m \u001b[38;5;28;01mexcept\u001b[39;00m NoSuchElementException:\n",
      "File \u001b[1;32m~\\anaconda3\\lib\\site-packages\\selenium\\webdriver\\remote\\webdriver.py:738\u001b[0m, in \u001b[0;36mWebDriver.find_element\u001b[1;34m(self, by, value)\u001b[0m\n\u001b[0;32m    736\u001b[0m     value \u001b[38;5;241m=\u001b[39m \u001b[38;5;124mf\u001b[39m\u001b[38;5;124m'\u001b[39m\u001b[38;5;124m[name=\u001b[39m\u001b[38;5;124m\"\u001b[39m\u001b[38;5;132;01m{\u001b[39;00mvalue\u001b[38;5;132;01m}\u001b[39;00m\u001b[38;5;124m\"\u001b[39m\u001b[38;5;124m]\u001b[39m\u001b[38;5;124m'\u001b[39m\n\u001b[1;32m--> 738\u001b[0m \u001b[38;5;28;01mreturn\u001b[39;00m \u001b[38;5;28;43mself\u001b[39;49m\u001b[38;5;241;43m.\u001b[39;49m\u001b[43mexecute\u001b[49m\u001b[43m(\u001b[49m\u001b[43mCommand\u001b[49m\u001b[38;5;241;43m.\u001b[39;49m\u001b[43mFIND_ELEMENT\u001b[49m\u001b[43m,\u001b[49m\u001b[43m \u001b[49m\u001b[43m{\u001b[49m\u001b[38;5;124;43m\"\u001b[39;49m\u001b[38;5;124;43musing\u001b[39;49m\u001b[38;5;124;43m\"\u001b[39;49m\u001b[43m:\u001b[49m\u001b[43m \u001b[49m\u001b[43mby\u001b[49m\u001b[43m,\u001b[49m\u001b[43m \u001b[49m\u001b[38;5;124;43m\"\u001b[39;49m\u001b[38;5;124;43mvalue\u001b[39;49m\u001b[38;5;124;43m\"\u001b[39;49m\u001b[43m:\u001b[49m\u001b[43m \u001b[49m\u001b[43mvalue\u001b[49m\u001b[43m}\u001b[49m\u001b[43m)\u001b[49m[\u001b[38;5;124m\"\u001b[39m\u001b[38;5;124mvalue\u001b[39m\u001b[38;5;124m\"\u001b[39m]\n",
      "File \u001b[1;32m~\\anaconda3\\lib\\site-packages\\selenium\\webdriver\\remote\\webdriver.py:344\u001b[0m, in \u001b[0;36mWebDriver.execute\u001b[1;34m(self, driver_command, params)\u001b[0m\n\u001b[0;32m    343\u001b[0m \u001b[38;5;28;01mif\u001b[39;00m response:\n\u001b[1;32m--> 344\u001b[0m     \u001b[38;5;28;43mself\u001b[39;49m\u001b[38;5;241;43m.\u001b[39;49m\u001b[43merror_handler\u001b[49m\u001b[38;5;241;43m.\u001b[39;49m\u001b[43mcheck_response\u001b[49m\u001b[43m(\u001b[49m\u001b[43mresponse\u001b[49m\u001b[43m)\u001b[49m\n\u001b[0;32m    345\u001b[0m     response[\u001b[38;5;124m\"\u001b[39m\u001b[38;5;124mvalue\u001b[39m\u001b[38;5;124m\"\u001b[39m] \u001b[38;5;241m=\u001b[39m \u001b[38;5;28mself\u001b[39m\u001b[38;5;241m.\u001b[39m_unwrap_value(response\u001b[38;5;241m.\u001b[39mget(\u001b[38;5;124m\"\u001b[39m\u001b[38;5;124mvalue\u001b[39m\u001b[38;5;124m\"\u001b[39m, \u001b[38;5;28;01mNone\u001b[39;00m))\n",
      "File \u001b[1;32m~\\anaconda3\\lib\\site-packages\\selenium\\webdriver\\remote\\errorhandler.py:229\u001b[0m, in \u001b[0;36mErrorHandler.check_response\u001b[1;34m(self, response)\u001b[0m\n\u001b[0;32m    228\u001b[0m     \u001b[38;5;28;01mraise\u001b[39;00m exception_class(message, screen, stacktrace, alert_text)  \u001b[38;5;66;03m# type: ignore[call-arg]  # mypy is not smart enough here\u001b[39;00m\n\u001b[1;32m--> 229\u001b[0m \u001b[38;5;28;01mraise\u001b[39;00m exception_class(message, screen, stacktrace)\n",
      "\u001b[1;31mNoSuchElementException\u001b[0m: Message: no such element: Unable to locate element: {\"method\":\"css selector\",\"selector\":\"[id=\"entryIframe\"]\"}\n  (Session info: chrome=117.0.5938.149); For documentation on this error, please visit: https://www.selenium.dev/documentation/webdriver/troubleshooting/errors#no-such-element-exception\nStacktrace:\n\tGetHandleVerifier [0x00007FF6CA367D12+55474]\n\t(No symbol) [0x00007FF6CA2D77C2]\n\t(No symbol) [0x00007FF6CA18E0EB]\n\t(No symbol) [0x00007FF6CA1CEBAC]\n\t(No symbol) [0x00007FF6CA1CED2C]\n\t(No symbol) [0x00007FF6CA209F77]\n\t(No symbol) [0x00007FF6CA1EF19F]\n\t(No symbol) [0x00007FF6CA207EF2]\n\t(No symbol) [0x00007FF6CA1EEF33]\n\t(No symbol) [0x00007FF6CA1C3D41]\n\t(No symbol) [0x00007FF6CA1C4F84]\n\tGetHandleVerifier [0x00007FF6CA6CB762+3609346]\n\tGetHandleVerifier [0x00007FF6CA721A80+3962400]\n\tGetHandleVerifier [0x00007FF6CA719F0F+3930799]\n\tGetHandleVerifier [0x00007FF6CA403CA6+694342]\n\t(No symbol) [0x00007FF6CA2E2218]\n\t(No symbol) [0x00007FF6CA2DE484]\n\t(No symbol) [0x00007FF6CA2DE5B2]\n\t(No symbol) [0x00007FF6CA2CEE13]\n\tBaseThreadInitThunk [0x00007FFD7EA0257D+29]\n\tRtlUserThreadStart [0x00007FFD7F32AA68+40]\n",
      "\nDuring handling of the above exception, another exception occurred:\n",
      "\u001b[1;31mNoSuchElementException\u001b[0m                    Traceback (most recent call last)",
      "File \u001b[1;32m~\\anaconda3\\lib\\site-packages\\selenium\\webdriver\\remote\\switch_to.py:91\u001b[0m, in \u001b[0;36mSwitchTo.frame\u001b[1;34m(self, frame_reference)\u001b[0m\n\u001b[0;32m     90\u001b[0m \u001b[38;5;28;01mtry\u001b[39;00m:\n\u001b[1;32m---> 91\u001b[0m     frame_reference \u001b[38;5;241m=\u001b[39m \u001b[38;5;28;43mself\u001b[39;49m\u001b[38;5;241;43m.\u001b[39;49m\u001b[43m_driver\u001b[49m\u001b[38;5;241;43m.\u001b[39;49m\u001b[43mfind_element\u001b[49m\u001b[43m(\u001b[49m\u001b[43mBy\u001b[49m\u001b[38;5;241;43m.\u001b[39;49m\u001b[43mNAME\u001b[49m\u001b[43m,\u001b[49m\u001b[43m \u001b[49m\u001b[43mframe_reference\u001b[49m\u001b[43m)\u001b[49m\n\u001b[0;32m     92\u001b[0m \u001b[38;5;28;01mexcept\u001b[39;00m NoSuchElementException \u001b[38;5;28;01mas\u001b[39;00m exc:\n",
      "File \u001b[1;32m~\\anaconda3\\lib\\site-packages\\selenium\\webdriver\\remote\\webdriver.py:738\u001b[0m, in \u001b[0;36mWebDriver.find_element\u001b[1;34m(self, by, value)\u001b[0m\n\u001b[0;32m    736\u001b[0m     value \u001b[38;5;241m=\u001b[39m \u001b[38;5;124mf\u001b[39m\u001b[38;5;124m'\u001b[39m\u001b[38;5;124m[name=\u001b[39m\u001b[38;5;124m\"\u001b[39m\u001b[38;5;132;01m{\u001b[39;00mvalue\u001b[38;5;132;01m}\u001b[39;00m\u001b[38;5;124m\"\u001b[39m\u001b[38;5;124m]\u001b[39m\u001b[38;5;124m'\u001b[39m\n\u001b[1;32m--> 738\u001b[0m \u001b[38;5;28;01mreturn\u001b[39;00m \u001b[38;5;28;43mself\u001b[39;49m\u001b[38;5;241;43m.\u001b[39;49m\u001b[43mexecute\u001b[49m\u001b[43m(\u001b[49m\u001b[43mCommand\u001b[49m\u001b[38;5;241;43m.\u001b[39;49m\u001b[43mFIND_ELEMENT\u001b[49m\u001b[43m,\u001b[49m\u001b[43m \u001b[49m\u001b[43m{\u001b[49m\u001b[38;5;124;43m\"\u001b[39;49m\u001b[38;5;124;43musing\u001b[39;49m\u001b[38;5;124;43m\"\u001b[39;49m\u001b[43m:\u001b[49m\u001b[43m \u001b[49m\u001b[43mby\u001b[49m\u001b[43m,\u001b[49m\u001b[43m \u001b[49m\u001b[38;5;124;43m\"\u001b[39;49m\u001b[38;5;124;43mvalue\u001b[39;49m\u001b[38;5;124;43m\"\u001b[39;49m\u001b[43m:\u001b[49m\u001b[43m \u001b[49m\u001b[43mvalue\u001b[49m\u001b[43m}\u001b[49m\u001b[43m)\u001b[49m[\u001b[38;5;124m\"\u001b[39m\u001b[38;5;124mvalue\u001b[39m\u001b[38;5;124m\"\u001b[39m]\n",
      "File \u001b[1;32m~\\anaconda3\\lib\\site-packages\\selenium\\webdriver\\remote\\webdriver.py:344\u001b[0m, in \u001b[0;36mWebDriver.execute\u001b[1;34m(self, driver_command, params)\u001b[0m\n\u001b[0;32m    343\u001b[0m \u001b[38;5;28;01mif\u001b[39;00m response:\n\u001b[1;32m--> 344\u001b[0m     \u001b[38;5;28;43mself\u001b[39;49m\u001b[38;5;241;43m.\u001b[39;49m\u001b[43merror_handler\u001b[49m\u001b[38;5;241;43m.\u001b[39;49m\u001b[43mcheck_response\u001b[49m\u001b[43m(\u001b[49m\u001b[43mresponse\u001b[49m\u001b[43m)\u001b[49m\n\u001b[0;32m    345\u001b[0m     response[\u001b[38;5;124m\"\u001b[39m\u001b[38;5;124mvalue\u001b[39m\u001b[38;5;124m\"\u001b[39m] \u001b[38;5;241m=\u001b[39m \u001b[38;5;28mself\u001b[39m\u001b[38;5;241m.\u001b[39m_unwrap_value(response\u001b[38;5;241m.\u001b[39mget(\u001b[38;5;124m\"\u001b[39m\u001b[38;5;124mvalue\u001b[39m\u001b[38;5;124m\"\u001b[39m, \u001b[38;5;28;01mNone\u001b[39;00m))\n",
      "File \u001b[1;32m~\\anaconda3\\lib\\site-packages\\selenium\\webdriver\\remote\\errorhandler.py:229\u001b[0m, in \u001b[0;36mErrorHandler.check_response\u001b[1;34m(self, response)\u001b[0m\n\u001b[0;32m    228\u001b[0m     \u001b[38;5;28;01mraise\u001b[39;00m exception_class(message, screen, stacktrace, alert_text)  \u001b[38;5;66;03m# type: ignore[call-arg]  # mypy is not smart enough here\u001b[39;00m\n\u001b[1;32m--> 229\u001b[0m \u001b[38;5;28;01mraise\u001b[39;00m exception_class(message, screen, stacktrace)\n",
      "\u001b[1;31mNoSuchElementException\u001b[0m: Message: no such element: Unable to locate element: {\"method\":\"css selector\",\"selector\":\"[name=\"entryIframe\"]\"}\n  (Session info: chrome=117.0.5938.149); For documentation on this error, please visit: https://www.selenium.dev/documentation/webdriver/troubleshooting/errors#no-such-element-exception\nStacktrace:\n\tGetHandleVerifier [0x00007FF6CA367D12+55474]\n\t(No symbol) [0x00007FF6CA2D77C2]\n\t(No symbol) [0x00007FF6CA18E0EB]\n\t(No symbol) [0x00007FF6CA1CEBAC]\n\t(No symbol) [0x00007FF6CA1CED2C]\n\t(No symbol) [0x00007FF6CA209F77]\n\t(No symbol) [0x00007FF6CA1EF19F]\n\t(No symbol) [0x00007FF6CA207EF2]\n\t(No symbol) [0x00007FF6CA1EEF33]\n\t(No symbol) [0x00007FF6CA1C3D41]\n\t(No symbol) [0x00007FF6CA1C4F84]\n\tGetHandleVerifier [0x00007FF6CA6CB762+3609346]\n\tGetHandleVerifier [0x00007FF6CA721A80+3962400]\n\tGetHandleVerifier [0x00007FF6CA719F0F+3930799]\n\tGetHandleVerifier [0x00007FF6CA403CA6+694342]\n\t(No symbol) [0x00007FF6CA2E2218]\n\t(No symbol) [0x00007FF6CA2DE484]\n\t(No symbol) [0x00007FF6CA2DE5B2]\n\t(No symbol) [0x00007FF6CA2CEE13]\n\tBaseThreadInitThunk [0x00007FFD7EA0257D+29]\n\tRtlUserThreadStart [0x00007FFD7F32AA68+40]\n",
      "\nThe above exception was the direct cause of the following exception:\n",
      "\u001b[1;31mNoSuchFrameException\u001b[0m                      Traceback (most recent call last)",
      "Cell \u001b[1;32mIn[48], line 1\u001b[0m\n\u001b[1;32m----> 1\u001b[0m \u001b[43mdriver\u001b[49m\u001b[38;5;241;43m.\u001b[39;49m\u001b[43mswitch_to\u001b[49m\u001b[38;5;241;43m.\u001b[39;49m\u001b[43mframe\u001b[49m\u001b[43m(\u001b[49m\u001b[38;5;124;43m'\u001b[39;49m\u001b[38;5;124;43mentryIframe\u001b[39;49m\u001b[38;5;124;43m'\u001b[39;49m\u001b[43m)\u001b[49m\n",
      "File \u001b[1;32m~\\anaconda3\\lib\\site-packages\\selenium\\webdriver\\remote\\switch_to.py:93\u001b[0m, in \u001b[0;36mSwitchTo.frame\u001b[1;34m(self, frame_reference)\u001b[0m\n\u001b[0;32m     91\u001b[0m             frame_reference \u001b[38;5;241m=\u001b[39m \u001b[38;5;28mself\u001b[39m\u001b[38;5;241m.\u001b[39m_driver\u001b[38;5;241m.\u001b[39mfind_element(By\u001b[38;5;241m.\u001b[39mNAME, frame_reference)\n\u001b[0;32m     92\u001b[0m         \u001b[38;5;28;01mexcept\u001b[39;00m NoSuchElementException \u001b[38;5;28;01mas\u001b[39;00m exc:\n\u001b[1;32m---> 93\u001b[0m             \u001b[38;5;28;01mraise\u001b[39;00m NoSuchFrameException(frame_reference) \u001b[38;5;28;01mfrom\u001b[39;00m \u001b[38;5;21;01mexc\u001b[39;00m\n\u001b[0;32m     95\u001b[0m \u001b[38;5;28mself\u001b[39m\u001b[38;5;241m.\u001b[39m_driver\u001b[38;5;241m.\u001b[39mexecute(Command\u001b[38;5;241m.\u001b[39mSWITCH_TO_FRAME, {\u001b[38;5;124m\"\u001b[39m\u001b[38;5;124mid\u001b[39m\u001b[38;5;124m\"\u001b[39m: frame_reference})\n",
      "\u001b[1;31mNoSuchFrameException\u001b[0m: Message: entryIframe\n"
     ]
    }
   ],
   "source": [
    "driver.switch_to.frame('entryIframe')"
   ]
  },
  {
   "cell_type": "code",
   "execution_count": 49,
   "id": "3774b096",
   "metadata": {
    "ExecuteTime": {
     "end_time": "2023-10-11T07:31:57.472500Z",
     "start_time": "2023-10-11T07:31:57.463991Z"
    }
   },
   "outputs": [],
   "source": [
    "# 메인페이지로 이동 했다가 다른 iframe으로 이동해야 에러가 발생하지 않음\n",
    "# 메인 html로 이동\n",
    "driver.switch_to.default_content()"
   ]
  },
  {
   "cell_type": "code",
   "execution_count": 50,
   "id": "4306113d",
   "metadata": {
    "ExecuteTime": {
     "end_time": "2023-10-11T07:32:15.254147Z",
     "start_time": "2023-10-11T07:32:15.213513Z"
    }
   },
   "outputs": [],
   "source": [
    "driver.switch_to.frame('entryIframe')"
   ]
  },
  {
   "cell_type": "code",
   "execution_count": 51,
   "id": "3b9da285",
   "metadata": {
    "ExecuteTime": {
     "end_time": "2023-10-11T07:32:19.974936Z",
     "start_time": "2023-10-11T07:32:19.934242Z"
    }
   },
   "outputs": [
    {
     "data": {
      "text/plain": [
       "'블루웨일'"
      ]
     },
     "execution_count": 51,
     "metadata": {},
     "output_type": "execute_result"
    }
   ],
   "source": [
    "real_name = driver.find_element(By.CSS_SELECTOR, '#_title > span.Fc1rA')\n",
    "real_name.text"
   ]
  },
  {
   "cell_type": "code",
   "execution_count": 65,
   "id": "f237d662",
   "metadata": {
    "ExecuteTime": {
     "end_time": "2023-10-11T07:41:18.623371Z",
     "start_time": "2023-10-11T07:41:18.606765Z"
    }
   },
   "outputs": [],
   "source": [
    "driver.switch_to.default_content()\n"
   ]
  },
  {
   "cell_type": "code",
   "execution_count": 79,
   "id": "783e8c95",
   "metadata": {
    "ExecuteTime": {
     "end_time": "2023-10-11T07:53:28.757837Z",
     "start_time": "2023-10-11T07:53:17.340881Z"
    }
   },
   "outputs": [
    {
     "name": "stdout",
     "output_type": "stream",
     "text": [
      "티소하\n"
     ]
    }
   ],
   "source": [
    "driver = wb.Chrome()\n",
    "driver.get('https://map.naver.com/p?c=15.00,0,0,0,dh')\n",
    "time.sleep(1)\n",
    "# 검색창에 동명동 맛집 검색\n",
    "# 네이버 지도 검색창의 id 값이 매번 변경되므로, class를 사용한다.\n",
    "search = driver.find_element(By.CLASS_NAME, 'input_search')\n",
    "search.send_keys('동명동 맛집')\n",
    "search.send_keys(Keys.ENTER)\n",
    "time.sleep(2)\n",
    "\n",
    "driver.switch_to.frame('searchIframe')\n",
    "time.sleep(1)\n",
    "name = driver.find_elements(By.CSS_SELECTOR, 'span.place_bluelink.TYaxT')\n",
    "name[0].click()\n",
    "time.sleep(1)\n",
    "# 메인페이지로 이동 했다가 다른 iframe으로 이동해야 에러가 발생하지 않음\n",
    "# 메인 html로 이동\n",
    "driver.switch_to.default_content()\n",
    "time.sleep(1)\n",
    "\n",
    "driver.switch_to.frame('entryIframe')\n",
    "time.sleep(1)\n",
    "real_name = driver.find_element(By.CSS_SELECTOR, '#_title > span.Fc1rA')\n",
    "print(real_name.text)\n",
    "\n",
    "driver.switch_to.default_content()"
   ]
  },
  {
   "cell_type": "markdown",
   "id": "b1c58d72",
   "metadata": {},
   "source": [
    "### Selenium 에서 frmae 이동하는 방법\n",
    "- selenium에서 iframe을 이동하려면 switch_to.frame(\"frame 아이디\")\n",
    "- 주의점 iframe에서 iframe에서 이동이 불가능하기 때문에,\n",
    "- 이동할 시 원본데이터(html)로 빠져나갔다가 다른 iframe으로 이동 해야한다.\n",
    "- 원본데이터로 가는 명령어 : switch_to.default_content()\n",
    "- 다른 iframe으로 이동 명령어 : switch_to_frame('구분자선택자')\n",
    "- 추가! 스크롤이 iframe안에 있어서 구분되어 있는경우\n",
    "- body에 스크롤 명령어를 입력해도 움직이지 않는다.\n",
    "- 스크롤을 가지고있는 영역을 선택해서 클릭 후, 스크롤 명령을 준다."
   ]
  },
  {
   "cell_type": "code",
   "execution_count": null,
   "id": "00d167c8",
   "metadata": {},
   "outputs": [],
   "source": []
  },
  {
   "cell_type": "code",
   "execution_count": null,
   "id": "63a086d5",
   "metadata": {},
   "outputs": [],
   "source": []
  },
  {
   "cell_type": "code",
   "execution_count": null,
   "id": "29b99f91",
   "metadata": {},
   "outputs": [],
   "source": []
  },
  {
   "cell_type": "code",
   "execution_count": null,
   "id": "03629db5",
   "metadata": {},
   "outputs": [],
   "source": []
  },
  {
   "cell_type": "code",
   "execution_count": null,
   "id": "a9db5628",
   "metadata": {},
   "outputs": [],
   "source": []
  }
 ],
 "metadata": {
  "kernelspec": {
   "display_name": "Python 3 (ipykernel)",
   "language": "python",
   "name": "python3"
  },
  "language_info": {
   "codemirror_mode": {
    "name": "ipython",
    "version": 3
   },
   "file_extension": ".py",
   "mimetype": "text/x-python",
   "name": "python",
   "nbconvert_exporter": "python",
   "pygments_lexer": "ipython3",
   "version": "3.10.9"
  },
  "toc": {
   "base_numbering": 1,
   "nav_menu": {},
   "number_sections": true,
   "sideBar": true,
   "skip_h1_title": false,
   "title_cell": "Table of Contents",
   "title_sidebar": "Contents",
   "toc_cell": false,
   "toc_position": {},
   "toc_section_display": true,
   "toc_window_display": false
  }
 },
 "nbformat": 4,
 "nbformat_minor": 5
}
