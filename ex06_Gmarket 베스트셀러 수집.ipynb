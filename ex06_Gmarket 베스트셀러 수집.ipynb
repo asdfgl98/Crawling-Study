{
 "cells": [
  {
   "cell_type": "markdown",
   "id": "c9b87256",
   "metadata": {},
   "source": [
    "### Gmarket 베스트 페이지에서 자동으로 페이지 이동 후 상품명, 가격, 카테고리 수집"
   ]
  },
  {
   "cell_type": "code",
   "execution_count": 57,
   "id": "0fa79053",
   "metadata": {
    "ExecuteTime": {
     "end_time": "2023-10-11T03:17:23.004249Z",
     "start_time": "2023-10-11T03:14:41.146651Z"
    }
   },
   "outputs": [
    {
     "name": "stdout",
     "output_type": "stream",
     "text": [
      "슬라이스 쪽갈비 400gX4팩 20,900원 수입돼지고기\n",
      "단골집 T송탄 치즈부대찌개 500g x 4팩+라면사리 1개 17,400원 즉석국/탕\n",
      "믈레코비타 T 믈레코비타 폴란드 멸균우유 1L x 12개 23,720원 우유\n",
      "CJ제일제당 T 고메 소바바치킨 소이허니 순살 375g X 5개 32,900원 기타축산물\n",
      "시나노골드 / 1.5kg / 중과 / 7-9과 (2개 구매시 3kg 합포장) 14,900원 사과\n",
      "허니촉촉 꽃징어 150g x3봉 /2봉 사은품 증정 22,300원 건오징어/건한치\n",
      "포스트 아몬드후레이크 620gx3 +팝콘그래놀라100g1개랜덤증정 16,440원 과자/간식\n",
      "|단독판매 15%카드할인| 23/24 비발디파크 락커시즌패스(시즌권+락커) 600,000원 스키\n",
      "동아오츠카 T 라인바싸 탄산수/탄산음료 500ml 2박스 ( 20입+20입 ) 17,500원 탄산수\n",
      "홍이장군 홍이랑튼튼 (30ml28포) (쇼핑백동봉) 59,000원 홍삼\n"
     ]
    }
   ],
   "source": [
    "from selenium import webdriver as wb\n",
    "from selenium.webdriver.common.by import By\n",
    "from selenium.webdriver.common.keys import Keys\n",
    "import pandas as pd\n",
    "import time\n",
    "\n",
    "# 브라우저 실행\n",
    "driver = wb.Chrome()\n",
    "# Gmarket 이동\n",
    "driver.get('https://www.gmarket.co.kr/n/best')\n",
    "\n",
    "# 상품 클릭해서 이동\n",
    "item = driver.find_elements(By.CLASS_NAME, 'image__lazy.image__load')\n",
    "\n",
    "name_list = []\n",
    "price_list = []\n",
    "category_list = []\n",
    "\n",
    "for i in tq(range(10)):\n",
    "    item = driver.find_elements(By.CLASS_NAME, 'image__lazy.image__load')\n",
    "    item[i].click()\n",
    "    time.sleep(1)\n",
    "\n",
    "    # 상품명\n",
    "    name = driver.find_element(By.CLASS_NAME, 'itemtit')\n",
    "    #상품 가격\n",
    "    price = driver.find_element(By.CLASS_NAME, 'price_real')\n",
    "    # 상품 카테고리\n",
    "    category = driver.find_element(By.CLASS_NAME, 'on>a')\n",
    "    \n",
    "    name_list.append(name.text)\n",
    "    price_list.append(price.text)\n",
    "    category_list.append(category.text)\n",
    "\n",
    "    print(name.text, price.text, category.text)\n",
    "    # 뒤로가기\n",
    "    driver.back()\n",
    "driver.close()\n",
    "\n",
    "# 데이터 딕셔너리로 정리\n",
    "data = {'name' : name_list, 'price' : price_list, 'category' : category_list}\n",
    "# Gmarket 데이터 프레임화\n",
    "df_data = pd.DataFrame(data)\n",
    "# 데이터프레임 csv 파일로 내보내기\n",
    "df_data.to_csv('./data/G마켓베스트.csv', encoding='euc-kr')\n"
   ]
  },
  {
   "cell_type": "markdown",
   "id": "4517301f",
   "metadata": {},
   "source": [
    "### 현재 진행상황을 확인할 수 있는 로딩바"
   ]
  },
  {
   "cell_type": "code",
   "execution_count": 60,
   "id": "b6b8aa41",
   "metadata": {
    "ExecuteTime": {
     "end_time": "2023-10-11T03:35:06.156078Z",
     "start_time": "2023-10-11T03:35:06.137806Z"
    }
   },
   "outputs": [],
   "source": [
    "from tqdm import tqdm_notebook as tq"
   ]
  },
  {
   "cell_type": "code",
   "execution_count": null,
   "id": "06c0e645",
   "metadata": {},
   "outputs": [],
   "source": []
  },
  {
   "cell_type": "code",
   "execution_count": null,
   "id": "c86643c0",
   "metadata": {},
   "outputs": [],
   "source": []
  },
  {
   "cell_type": "code",
   "execution_count": null,
   "id": "5b8d7d28",
   "metadata": {},
   "outputs": [],
   "source": []
  },
  {
   "cell_type": "code",
   "execution_count": null,
   "id": "026a4843",
   "metadata": {},
   "outputs": [],
   "source": []
  },
  {
   "cell_type": "code",
   "execution_count": null,
   "id": "6161aefe",
   "metadata": {},
   "outputs": [],
   "source": []
  },
  {
   "cell_type": "code",
   "execution_count": null,
   "id": "82996eca",
   "metadata": {},
   "outputs": [],
   "source": []
  },
  {
   "cell_type": "code",
   "execution_count": null,
   "id": "a73263fb",
   "metadata": {},
   "outputs": [],
   "source": []
  },
  {
   "cell_type": "code",
   "execution_count": null,
   "id": "c939698f",
   "metadata": {},
   "outputs": [],
   "source": []
  },
  {
   "cell_type": "code",
   "execution_count": null,
   "id": "8361a5a5",
   "metadata": {},
   "outputs": [],
   "source": []
  },
  {
   "cell_type": "code",
   "execution_count": null,
   "id": "fb777460",
   "metadata": {},
   "outputs": [],
   "source": []
  },
  {
   "cell_type": "code",
   "execution_count": null,
   "id": "6c0df884",
   "metadata": {},
   "outputs": [],
   "source": []
  }
 ],
 "metadata": {
  "kernelspec": {
   "display_name": "Python 3 (ipykernel)",
   "language": "python",
   "name": "python3"
  },
  "language_info": {
   "codemirror_mode": {
    "name": "ipython",
    "version": 3
   },
   "file_extension": ".py",
   "mimetype": "text/x-python",
   "name": "python",
   "nbconvert_exporter": "python",
   "pygments_lexer": "ipython3",
   "version": "3.10.9"
  },
  "toc": {
   "base_numbering": 1,
   "nav_menu": {},
   "number_sections": true,
   "sideBar": true,
   "skip_h1_title": false,
   "title_cell": "Table of Contents",
   "title_sidebar": "Contents",
   "toc_cell": false,
   "toc_position": {},
   "toc_section_display": true,
   "toc_window_display": false
  }
 },
 "nbformat": 4,
 "nbformat_minor": 5
}
