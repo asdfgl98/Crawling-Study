{
 "cells": [
  {
   "cell_type": "code",
   "execution_count": 40,
   "id": "b5d83f19",
   "metadata": {
    "ExecuteTime": {
     "end_time": "2023-10-11T06:11:05.091423Z",
     "start_time": "2023-10-11T06:11:05.072722Z"
    }
   },
   "outputs": [],
   "source": [
    "from selenium import webdriver as wb\n",
    "from selenium.webdriver.common.by import By\n",
    "from selenium.webdriver.common.keys import Keys\n",
    "import time\n",
    "import pandas as pd"
   ]
  },
  {
   "cell_type": "code",
   "execution_count": 41,
   "id": "a1e8cfd3",
   "metadata": {
    "ExecuteTime": {
     "end_time": "2023-10-11T06:11:49.647507Z",
     "start_time": "2023-10-11T06:11:05.813872Z"
    }
   },
   "outputs": [
    {
     "data": {
      "text/html": [
       "<div>\n",
       "<style scoped>\n",
       "    .dataframe tbody tr th:only-of-type {\n",
       "        vertical-align: middle;\n",
       "    }\n",
       "\n",
       "    .dataframe tbody tr th {\n",
       "        vertical-align: top;\n",
       "    }\n",
       "\n",
       "    .dataframe thead th {\n",
       "        text-align: right;\n",
       "    }\n",
       "</style>\n",
       "<table border=\"1\" class=\"dataframe\">\n",
       "  <thead>\n",
       "    <tr style=\"text-align: right;\">\n",
       "      <th></th>\n",
       "      <th>title</th>\n",
       "    </tr>\n",
       "  </thead>\n",
       "  <tbody>\n",
       "    <tr>\n",
       "      <th>0</th>\n",
       "      <td>신한금융 후원 7개 국대 선수단, 아시안 게임서 '금2·은9·동14' 쓸었다</td>\n",
       "    </tr>\n",
       "    <tr>\n",
       "      <th>1</th>\n",
       "      <td>북한 아시안게임 선수단장 오광혁</td>\n",
       "    </tr>\n",
       "    <tr>\n",
       "      <th>2</th>\n",
       "      <td>홍준표, 항저우 아시안게임 대구시청 메달리스트 초청 격려</td>\n",
       "    </tr>\n",
       "    <tr>\n",
       "      <th>3</th>\n",
       "      <td>오세훈, 아시안게임 선수단 간담회..“파리 올림픽 도전 응원”</td>\n",
       "    </tr>\n",
       "    <tr>\n",
       "      <th>4</th>\n",
       "      <td>\"행복했습니다\"…최윤 OK금융 회장, 아시안게임 여정 마무리</td>\n",
       "    </tr>\n",
       "    <tr>\n",
       "      <th>...</th>\n",
       "      <td>...</td>\n",
       "    </tr>\n",
       "    <tr>\n",
       "      <th>95</th>\n",
       "      <td>'슈돌' 엔싸인 한준ㆍ희원, 김준호 위해 '아시안게임 런치쇼' 준비…센스만점...</td>\n",
       "    </tr>\n",
       "    <tr>\n",
       "      <th>96</th>\n",
       "      <td>[아시안게임] 축구 이강인·야구 문동주, 에이스 의기투합 \"정말 축하해\"</td>\n",
       "    </tr>\n",
       "    <tr>\n",
       "      <th>97</th>\n",
       "      <td>[아시안게임] 소채원, 컴파운드 여자 개인전 은메달…인도 금메달 싹쓸이(종합...</td>\n",
       "    </tr>\n",
       "    <tr>\n",
       "      <th>98</th>\n",
       "      <td>\"내년 총선은 한일전\"·\"야구 한일전\" 민주당, 황당 SNS에…</td>\n",
       "    </tr>\n",
       "    <tr>\n",
       "      <th>99</th>\n",
       "      <td>짜이찌엔 항저우!…아시안게임 폐회식 현장 [포착]</td>\n",
       "    </tr>\n",
       "  </tbody>\n",
       "</table>\n",
       "<p>100 rows × 1 columns</p>\n",
       "</div>"
      ],
      "text/plain": [
       "                                            title\n",
       "0      신한금융 후원 7개 국대 선수단, 아시안 게임서 '금2·은9·동14' 쓸었다\n",
       "1                               북한 아시안게임 선수단장 오광혁\n",
       "2                 홍준표, 항저우 아시안게임 대구시청 메달리스트 초청 격려\n",
       "3              오세훈, 아시안게임 선수단 간담회..“파리 올림픽 도전 응원”\n",
       "4               \"행복했습니다\"…최윤 OK금융 회장, 아시안게임 여정 마무리\n",
       "..                                            ...\n",
       "95  '슈돌' 엔싸인 한준ㆍ희원, 김준호 위해 '아시안게임 런치쇼' 준비…센스만점...\n",
       "96       [아시안게임] 축구 이강인·야구 문동주, 에이스 의기투합 \"정말 축하해\"\n",
       "97  [아시안게임] 소채원, 컴파운드 여자 개인전 은메달…인도 금메달 싹쓸이(종합...\n",
       "98            \"내년 총선은 한일전\"·\"야구 한일전\" 민주당, 황당 SNS에…\n",
       "99                    짜이찌엔 항저우!…아시안게임 폐회식 현장 [포착]\n",
       "\n",
       "[100 rows x 1 columns]"
      ]
     },
     "execution_count": 41,
     "metadata": {},
     "output_type": "execute_result"
    }
   ],
   "source": [
    "# 1. 크롬 실행\n",
    "# 1.1 네이버 메인페이지로 이동\n",
    "driver = wb.Chrome()\n",
    "driver.get('http://naver.com')\n",
    "time.sleep(1)\n",
    "# 2. 검색창\n",
    "search = driver.find_element(By.ID, 'query')\n",
    "search.send_keys('아시안게임')\n",
    "\n",
    "search.send_keys(Keys.ENTER)\n",
    "\n",
    "# 3. 탭 상단의 오른쪽 화살표 버튼 클릭\n",
    "next_click = driver.find_element(By.CSS_SELECTOR, '#lnb > div.lnb_group > div > div.lnb_nav_area._nav_area_root > div > div.api_btn_page._nav_btn_root > div.btn_next._next > a > span')\n",
    "next_click.click()\n",
    "time.sleep(1)\n",
    "news_tab = driver.find_element(By.CSS_SELECTOR, '#lnb > div.lnb_group > div > div.lnb_nav_area._nav_area_root > div > div.api_flicking_wrap._conveyer_root > div:nth-child(7) > a')\n",
    "news_tab.click()\n",
    "time.sleep(1)\n",
    "news_list = []\n",
    "\n",
    "for n in range(10):\n",
    "    # 4. 뉴스 타이틀만 수집\n",
    "    time.sleep(1)\n",
    "    news_title = driver.find_elements(By.CSS_SELECTOR, 'div.news_area>a')\n",
    "    for i in news_title:\n",
    "        news_list.append(i.text)\n",
    "\n",
    "    # 5. 화면 최하단으로 스크롤 이동\n",
    "    body = driver.find_element(By.TAG_NAME, 'body')\n",
    "    body.send_keys(Keys.END)\n",
    "    time.sleep(1)\n",
    "\n",
    "    # 6. 다음페이지로 이동하는 오른쪽 화살표 버튼 클릭\n",
    "    next_page = driver.find_element(By.CSS_SELECTOR, '#main_pack > div.api_sc_page_wrap > div > a.btn_next > i')\n",
    "    next_page.click()\n",
    "\n",
    "driver.quit()\n",
    "\n",
    "data = {'title' : news_list}\n",
    "\n",
    "df_data = pd.DataFrame(data)\n",
    "df_data.to_csv('./data/뉴스타이틀.csv', encoding='euc-kr')\n",
    "df_data"
   ]
  },
  {
   "cell_type": "code",
   "execution_count": null,
   "id": "d4b27feb",
   "metadata": {},
   "outputs": [],
   "source": []
  },
  {
   "cell_type": "code",
   "execution_count": null,
   "id": "7a35611a",
   "metadata": {},
   "outputs": [],
   "source": []
  },
  {
   "cell_type": "code",
   "execution_count": null,
   "id": "7bc56ef4",
   "metadata": {},
   "outputs": [],
   "source": []
  },
  {
   "cell_type": "code",
   "execution_count": null,
   "id": "f1484761",
   "metadata": {},
   "outputs": [],
   "source": []
  },
  {
   "cell_type": "code",
   "execution_count": null,
   "id": "2c21dcf5",
   "metadata": {},
   "outputs": [],
   "source": []
  },
  {
   "cell_type": "code",
   "execution_count": null,
   "id": "b16032fa",
   "metadata": {},
   "outputs": [],
   "source": []
  }
 ],
 "metadata": {
  "kernelspec": {
   "display_name": "Python 3 (ipykernel)",
   "language": "python",
   "name": "python3"
  },
  "language_info": {
   "codemirror_mode": {
    "name": "ipython",
    "version": 3
   },
   "file_extension": ".py",
   "mimetype": "text/x-python",
   "name": "python",
   "nbconvert_exporter": "python",
   "pygments_lexer": "ipython3",
   "version": "3.10.9"
  },
  "toc": {
   "base_numbering": 1,
   "nav_menu": {},
   "number_sections": true,
   "sideBar": true,
   "skip_h1_title": false,
   "title_cell": "Table of Contents",
   "title_sidebar": "Contents",
   "toc_cell": false,
   "toc_position": {},
   "toc_section_display": true,
   "toc_window_display": false
  }
 },
 "nbformat": 4,
 "nbformat_minor": 5
}
